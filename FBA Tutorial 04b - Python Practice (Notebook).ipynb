{
 "cells": [
  {
   "cell_type": "markdown",
   "metadata": {},
   "source": [
    "<p style=\"text-align: center;\">\n",
    "\n",
    "<big><big><big><b>FBA - Week 04b - Python Practice</b></big></big></big>\n",
    "</p>\n",
    "\n",
    "In our foray into scripting for business analytics, we have so far learnt the core tools of scripting: variables, conditionals and loops, data structures and functions today. These are absolutely central to have an instinctive undertanding of. However, there is one more concept that we need to understand before we can move on to real applications - and that is \"functions\".\n",
    "\n",
    "In this practical we are mainly going to focus on functions, which are invaluable to know - they will be the LEGO bricks of your code as we gradually develop more complex and powerful analytics scripts. Let's go (practising with some toy functions)..."
   ]
  },
  {
   "cell_type": "markdown",
   "metadata": {},
   "source": [
    "# Some practice examples\n",
    "\n",
    "Below are simple examples covering what we have learned in the lecture so that you get a feel of all these new LEGO bricks work. We will then move on our ice cream analytics case and also build a mini-game.\n",
    "\n",
    "## Functions\n",
    "\n",
    "Let's start with functions. Create a function **make_twice()** that prints on the screen \"Twice Twice\". Once you have defined your function, don't forget to add a function call to run it!"
   ]
  },
  {
   "cell_type": "code",
   "execution_count": 133,
   "metadata": {},
   "outputs": [
    {
     "name": "stdout",
     "output_type": "stream",
     "text": [
      "Twice Twice\n"
     ]
    }
   ],
   "source": [
    "# Your function definition here\n",
    "\n",
    "    \n",
    "# Your function call here\n"
   ]
  },
  {
   "cell_type": "markdown",
   "metadata": {},
   "source": [
    "Now create a function **make_twice_2()** that takes a string as a parameter and prints that sent string twice on the screen."
   ]
  },
  {
   "cell_type": "code",
   "execution_count": 134,
   "metadata": {},
   "outputs": [
    {
     "name": "stdout",
     "output_type": "stream",
     "text": [
      "TwiceTwice\n"
     ]
    }
   ],
   "source": []
  },
  {
   "cell_type": "markdown",
   "metadata": {},
   "source": [
    "Let's now make a third version of our function **make_twice_3()** that takes a string as a parameter, doubles it, but then instead of printing it <b>returns</b> sends it back (i.e. \"returns\" it) to you main program. Then print the the result outside of your function, using the returned value."
   ]
  },
  {
   "cell_type": "code",
   "execution_count": 135,
   "metadata": {},
   "outputs": [
    {
     "name": "stdout",
     "output_type": "stream",
     "text": [
      "TwiceTwice\n"
     ]
    }
   ],
   "source": []
  },
  {
   "cell_type": "markdown",
   "metadata": {},
   "source": [
    "Here is a bit of code that prints a square to screen:"
   ]
  },
  {
   "cell_type": "code",
   "execution_count": 8,
   "metadata": {},
   "outputs": [
    {
     "name": "stdout",
     "output_type": "stream",
     "text": [
      "*****\n",
      "*****\n",
      "*****\n",
      "*****\n",
      "*****\n"
     ]
    }
   ],
   "source": [
    "SIZE = 5\n",
    "for row in range(1, SIZE + 1):\n",
    "    print(\"*\" * SIZE)"
   ]
  },
  {
   "cell_type": "markdown",
   "metadata": {},
   "source": [
    "Convert this bit of code into a function called <b>make_square()</b> and print out a square by calling it."
   ]
  },
  {
   "cell_type": "code",
   "execution_count": null,
   "metadata": {
    "collapsed": true
   },
   "outputs": [],
   "source": [
    "#enter your square code here"
   ]
  },
  {
   "cell_type": "markdown",
   "metadata": {},
   "source": [
    "Update your code so it accepts the squares SIZE as a paramter, and then call that function to build squares of size 3, 5 and 9."
   ]
  },
  {
   "cell_type": "code",
   "execution_count": null,
   "metadata": {
    "collapsed": true
   },
   "outputs": [],
   "source": [
    "#enter your square code here"
   ]
  },
  {
   "cell_type": "markdown",
   "metadata": {},
   "source": [
    "Change the function you have created to print a right angled triangle instead of a square (if you get stuck here ask for help!). Then print out a triangle of size 5! (see the expected output below)"
   ]
  },
  {
   "cell_type": "code",
   "execution_count": 12,
   "metadata": {},
   "outputs": [
    {
     "name": "stdout",
     "output_type": "stream",
     "text": [
      "*\n",
      "**\n",
      "***\n",
      "****\n",
      "*****\n"
     ]
    }
   ],
   "source": [
    "#enter your triangle code here"
   ]
  },
  {
   "cell_type": "markdown",
   "metadata": {},
   "source": [
    "## Scope\n",
    "\n",
    "The scope of a variable (i.e. which parts of your script it can be seen) is important to understand - read through the following code to ensure that you recognize what is going on - the last couple of lines will intentionall throw error to show you what happens when scoping gets confused."
   ]
  },
  {
   "cell_type": "code",
   "execution_count": 16,
   "metadata": {
    "collapsed": true
   },
   "outputs": [],
   "source": [
    "# This is a global variable\n",
    "a = 0\n",
    "\n",
    "if a == 0:\n",
    "    # This is still a global variable\n",
    "    b = 1\n",
    "\n",
    "def my_function(c):\n",
    "    # this is a local variable\n",
    "    d = 3\n",
    "    print(c)\n",
    "    print(d)"
   ]
  },
  {
   "cell_type": "code",
   "execution_count": 17,
   "metadata": {},
   "outputs": [
    {
     "name": "stdout",
     "output_type": "stream",
     "text": [
      "7\n",
      "3\n"
     ]
    }
   ],
   "source": [
    "# Now we call the function, passing the value 7 as the first and only parameter\n",
    "my_function(7)"
   ]
  },
  {
   "cell_type": "code",
   "execution_count": 18,
   "metadata": {},
   "outputs": [
    {
     "name": "stdout",
     "output_type": "stream",
     "text": [
      "0\n",
      "1\n"
     ]
    }
   ],
   "source": [
    "# a and b still exist\n",
    "print(a)\n",
    "print(b)"
   ]
  },
  {
   "cell_type": "code",
   "execution_count": 19,
   "metadata": {},
   "outputs": [
    {
     "ename": "NameError",
     "evalue": "name 'c' is not defined",
     "output_type": "error",
     "traceback": [
      "\u001b[1;31m---------------------------------------------------------------------------\u001b[0m",
      "\u001b[1;31mNameError\u001b[0m                                 Traceback (most recent call last)",
      "\u001b[1;32m<ipython-input-19-a4a791d4e932>\u001b[0m in \u001b[0;36m<module>\u001b[1;34m()\u001b[0m\n\u001b[0;32m      1\u001b[0m \u001b[1;31m# c and d don't exist anymore -- these statements will give us name errors!\u001b[0m\u001b[1;33m\u001b[0m\u001b[1;33m\u001b[0m\u001b[0m\n\u001b[1;32m----> 2\u001b[1;33m \u001b[0mprint\u001b[0m\u001b[1;33m(\u001b[0m\u001b[0mc\u001b[0m\u001b[1;33m)\u001b[0m\u001b[1;33m\u001b[0m\u001b[0m\n\u001b[0m\u001b[0;32m      3\u001b[0m \u001b[0mprint\u001b[0m\u001b[1;33m(\u001b[0m\u001b[0md\u001b[0m\u001b[1;33m)\u001b[0m\u001b[1;33m\u001b[0m\u001b[0m\n",
      "\u001b[1;31mNameError\u001b[0m: name 'c' is not defined"
     ]
    }
   ],
   "source": [
    "# c and d don't exist anymore -- these statements will give us name errors!\n",
    "print(c)\n",
    "print(d)"
   ]
  },
  {
   "cell_type": "markdown",
   "metadata": {},
   "source": [
    "Scoping works slightly different if you send data structures, like lists and dictionaries. Observe the following:"
   ]
  },
  {
   "cell_type": "code",
   "execution_count": 1,
   "metadata": {},
   "outputs": [
    {
     "name": "stdout",
     "output_type": "stream",
     "text": [
      "['john', 'paul', 'george', 'ringo']\n"
     ]
    }
   ],
   "source": [
    "def replace_lennon(mylist):\n",
    "    mylist.append(\"james\")\n",
    "    mylist.remove(\"john\")\n",
    "\n",
    "people = [\"john\", \"paul\", \"george\", \"ringo\"]\n",
    "print(people)"
   ]
  },
  {
   "cell_type": "code",
   "execution_count": 2,
   "metadata": {},
   "outputs": [
    {
     "name": "stdout",
     "output_type": "stream",
     "text": [
      "['paul', 'george', 'ringo', 'james']\n"
     ]
    }
   ],
   "source": [
    "replace_lennon(people)\n",
    "print(people)"
   ]
  },
  {
   "cell_type": "markdown",
   "metadata": {},
   "source": [
    "For lists and dictionaries the contents can get updated (because the list is just a 'holder' for the items within it) so take care - they work slighly differently to 'literals' such as strings and integers."
   ]
  },
  {
   "cell_type": "markdown",
   "metadata": {},
   "source": [
    "Write a function called  that accepts two parameters, the person being removed and the person being added to the array the function is given. What happens if you give this function the name of a person not in that list? It will likely throw an error - can you think of a way of fixing this? Perhaps if you checked the list to ensure that the person was in it first, and only try and remove that person if they were actually there...</b>"
   ]
  },
  {
   "cell_type": "code",
   "execution_count": 32,
   "metadata": {
    "collapsed": true
   },
   "outputs": [],
   "source": [
    "#enter your code for a person replacing function here"
   ]
  },
  {
   "cell_type": "markdown",
   "metadata": {},
   "source": [
    "## Module import\n",
    "\n",
    "People have written lots and lots of incredible functions for us to use in our code (so we don't have to write them ourselves) Here is an example of one that is very useful, showing how to import the <b>random</b> module that is then used to generate a random float number:"
   ]
  },
  {
   "cell_type": "code",
   "execution_count": 136,
   "metadata": {},
   "outputs": [
    {
     "name": "stdout",
     "output_type": "stream",
     "text": [
      "0.53062030080385\n"
     ]
    }
   ],
   "source": [
    "import random\n",
    "\n",
    "print(random.random())"
   ]
  },
  {
   "cell_type": "markdown",
   "metadata": {},
   "source": [
    "In a similar fashion, import the **math** module and experiment with the square root function (math.sqrt())."
   ]
  },
  {
   "cell_type": "code",
   "execution_count": 137,
   "metadata": {},
   "outputs": [
    {
     "name": "stdout",
     "output_type": "stream",
     "text": [
      "2.0\n"
     ]
    }
   ],
   "source": []
  },
  {
   "cell_type": "markdown",
   "metadata": {},
   "source": [
    "## File Operations\n",
    "\n",
    "Let's now practice our file operations skills. Below are some examples to:\n",
    "1. Write to a file\n",
    "2. Append to a file\n",
    "3. Read a file"
   ]
  },
  {
   "cell_type": "code",
   "execution_count": 1,
   "metadata": {},
   "outputs": [],
   "source": [
    "with open('example.txt', 'w') as f:\n",
    "    f.write('This is an example file.')"
   ]
  },
  {
   "cell_type": "code",
   "execution_count": 2,
   "metadata": {},
   "outputs": [],
   "source": [
    "with open('example.txt', 'a') as f:\n",
    "    f.write('My name is Jenny')"
   ]
  },
  {
   "cell_type": "code",
   "execution_count": 3,
   "metadata": {},
   "outputs": [
    {
     "name": "stdout",
     "output_type": "stream",
     "text": [
      "This is an example file.My name is Jenny\n"
     ]
    }
   ],
   "source": [
    "with open('example.txt', 'r') as f:\n",
    "    print(f.read())"
   ]
  },
  {
   "cell_type": "markdown",
   "metadata": {},
   "source": [
    "Using the same structure, write to a file 'today.txt' the following text: 'We are Tuesday 30th October 2018'"
   ]
  },
  {
   "cell_type": "code",
   "execution_count": 141,
   "metadata": {
    "collapsed": true
   },
   "outputs": [],
   "source": []
  },
  {
   "cell_type": "markdown",
   "metadata": {},
   "source": [
    "Now **append** to the file 'And it is freezing and raining ...'"
   ]
  },
  {
   "cell_type": "code",
   "execution_count": 142,
   "metadata": {
    "collapsed": true
   },
   "outputs": [],
   "source": []
  },
  {
   "cell_type": "markdown",
   "metadata": {},
   "source": [
    "Finally, read the content of your file."
   ]
  },
  {
   "cell_type": "code",
   "execution_count": 143,
   "metadata": {},
   "outputs": [
    {
     "name": "stdout",
     "output_type": "stream",
     "text": [
      "We are Tuesday 30th October 2018.And it is freezing and raining...\n"
     ]
    }
   ],
   "source": []
  },
  {
   "cell_type": "markdown",
   "metadata": {},
   "source": [
    "## String manipulation\n",
    "\n",
    "You are given a variable data containing a string that we want to convert into a list of 12 values using the method **split()**."
   ]
  },
  {
   "cell_type": "code",
   "execution_count": 144,
   "metadata": {
    "collapsed": true
   },
   "outputs": [],
   "source": [
    "data = '1000 1100 1200 1300 1400 1500 1500 1400 1300 1200 1100 1000'\n"
   ]
  },
  {
   "cell_type": "markdown",
   "metadata": {},
   "source": [
    "We now want to print the data, one value per line. We can do that in a single line of code using the method **join()** and a print statement. Remember that the new line character is **\\n**."
   ]
  },
  {
   "cell_type": "code",
   "execution_count": 145,
   "metadata": {},
   "outputs": [
    {
     "name": "stdout",
     "output_type": "stream",
     "text": [
      "1000\n",
      "1100\n",
      "1200\n",
      "1300\n",
      "1400\n",
      "1500\n",
      "1500\n",
      "1400\n",
      "1300\n",
      "1200\n",
      "1100\n",
      "1000\n"
     ]
    }
   ],
   "source": []
  },
  {
   "cell_type": "markdown",
   "metadata": {},
   "source": [
    "# Case Study Example - back to ice creams!\n",
    "\n",
    "Once again, let's go back to our ice cream business and see how we could have made our lives a bit simpler last week if we had known how to read files!\n",
    "\n",
    "Here is a reminder of the sales of our business:\n",
    "\n",
    "|-| January | February | March | April | May | June | July | August | September | October | November | December\n",
    "|-|-|-|-|-|-|-|-|-|-|-|-|-|\n",
    "|2015|£1000|£1100|£1200|£1300|£1400|£1500|£1500|£1400|£1300|£1200|£1100|£1000|\n",
    "|2016|£1100|£1200|£1300|£1400|£1500|£1600|£1600|£1500|£1400|£1300|£1200|£1100|\n",
    "|2017|£500|£1600|£1700|£1800|£1900|£500|£500|£500|£1800|£1700|£1600|£500|\n",
    "\n",
    "This time you won't have to manually write all the sales, our business provided you a CSV file *ice_cream_sales.csv* that contains the information.\n",
    "\n",
    "## Step 1: How is the data structured?\n",
    "\n",
    "When you will receive a new dataset, one of the first thing to do is to have a look at how your data is structured. To do this, open the file *ice_cream_sales.csv* in the text editor and understand how it is structured. (***This is not done in Python!!!***)\n",
    "\n",
    "## Step 2: Reading the file\n",
    "\n",
    "Using the **with** statement alongside the **open** function, print the content of the file line by line."
   ]
  },
  {
   "cell_type": "code",
   "execution_count": 91,
   "metadata": {},
   "outputs": [
    {
     "name": "stdout",
     "output_type": "stream",
     "text": [
      "2015, 1000, 1100, 1200, 1300, 1400, 1500, 1500, 1400, 1300, 1200, 1100, 1000\n",
      "\n",
      "2016, 1100, 1200, 1300, 1400, 1500, 1600, 1600, 1500, 1400, 1300, 1200, 1100\n",
      "\n",
      "2017, 500.0, 1600.0, 1700.0, 1800.0, 1900.0, 500.0, 500.0, 500.0, 1800.0, 1700.0, 1600.0, 500.0\n",
      "\n"
     ]
    }
   ],
   "source": []
  },
  {
   "cell_type": "markdown",
   "metadata": {},
   "source": [
    "## Step 3: Pre-processing the data - Part I\n",
    "\n",
    "Using your code from the previous question as the starting point, add some code that takes advantage of the CSV (comma-separated value) format to split the data of each line into a list, assigned to a variable **data**. You can check the content of your variable using the statement **print(data)**"
   ]
  },
  {
   "cell_type": "code",
   "execution_count": 96,
   "metadata": {},
   "outputs": [
    {
     "name": "stdout",
     "output_type": "stream",
     "text": [
      "['2015', ' 1000', ' 1100', ' 1200', ' 1300', ' 1400', ' 1500', ' 1500', ' 1400', ' 1300', ' 1200', ' 1100', ' 1000']\n",
      "['2016', ' 1100', ' 1200', ' 1300', ' 1400', ' 1500', ' 1600', ' 1600', ' 1500', ' 1400', ' 1300', ' 1200', ' 1100']\n",
      "['2017', ' 500.0', ' 1600.0', ' 1700.0', ' 1800.0', ' 1900.0', ' 500.0', ' 500.0', ' 500.0', ' 1800.0', ' 1700.0', ' 1600.0', ' 500.0']\n"
     ]
    }
   ],
   "source": []
  },
  {
   "cell_type": "markdown",
   "metadata": {},
   "source": [
    "## Step 4: Pre-processing the data - Part II\n",
    "\n",
    "Reusing the code from the previous question as the starting point, extract for each line the year and a list of the sales for the 12 months. You can store them respectively in a variable **year** and **sales**, and add the statement **print(year, sales)** to check the content of your variables."
   ]
  },
  {
   "cell_type": "code",
   "execution_count": 93,
   "metadata": {},
   "outputs": [
    {
     "name": "stdout",
     "output_type": "stream",
     "text": [
      "2015 [' 1000', ' 1100', ' 1200', ' 1300', ' 1400', ' 1500', ' 1500', ' 1400', ' 1300', ' 1200', ' 1100', ' 1000']\n",
      "2016 [' 1100', ' 1200', ' 1300', ' 1400', ' 1500', ' 1600', ' 1600', ' 1500', ' 1400', ' 1300', ' 1200', ' 1100']\n",
      "2017 [' 500.0', ' 1600.0', ' 1700.0', ' 1800.0', ' 1900.0', ' 500.0', ' 500.0', ' 500.0', ' 1800.0', ' 1700.0', ' 1600.0', ' 500.0']\n"
     ]
    }
   ],
   "source": []
  },
  {
   "cell_type": "markdown",
   "metadata": {},
   "source": [
    "## Step 5: Pre-processing the data - Part III\n",
    "\n",
    "Reusing the code from the previous question as the starting point, extend it to store the data in a dictionary that will use the year as the key and the list of sales as a value. Don't forget to print your dictionary at the end to check what it contains!"
   ]
  },
  {
   "cell_type": "code",
   "execution_count": 98,
   "metadata": {},
   "outputs": [
    {
     "name": "stdout",
     "output_type": "stream",
     "text": [
      "{'2015': [' 1000', ' 1100', ' 1200', ' 1300', ' 1400', ' 1500', ' 1500', ' 1400', ' 1300', ' 1200', ' 1100', ' 1000'], '2016': [' 1100', ' 1200', ' 1300', ' 1400', ' 1500', ' 1600', ' 1600', ' 1500', ' 1400', ' 1300', ' 1200', ' 1100'], '2017': [' 500.0', ' 1600.0', ' 1700.0', ' 1800.0', ' 1900.0', ' 500.0', ' 500.0', ' 500.0', ' 1800.0', ' 1700.0', ' 1600.0', ' 500.0']}\n"
     ]
    }
   ],
   "source": []
  },
  {
   "cell_type": "markdown",
   "metadata": {},
   "source": [
    "## Step 6: Yearly average sales\n",
    "\n",
    "Write a function **list_average()** that takes a list as a parameter and return the average value of the list."
   ]
  },
  {
   "cell_type": "code",
   "execution_count": 101,
   "metadata": {
    "collapsed": true
   },
   "outputs": [],
   "source": []
  },
  {
   "cell_type": "markdown",
   "metadata": {},
   "source": [
    "Using a **for** loop and the function **list_average()**, print the average monthly sale for each year of our business."
   ]
  },
  {
   "cell_type": "code",
   "execution_count": 103,
   "metadata": {},
   "outputs": [
    {
     "name": "stdout",
     "output_type": "stream",
     "text": [
      "2015 1250.0\n",
      "2016 1350.0\n",
      "2017 1216.6666666666667\n"
     ]
    }
   ],
   "source": []
  },
  {
   "cell_type": "markdown",
   "metadata": {},
   "source": [
    "# Guess the number!\n",
    "\n",
    "I am sure most of you would have already played that game where one of your friend picks a random and you try to guess it as quickly as possible. We now have all the bricks we need to build such a game so let's do it, step by step!\n",
    "\n",
    "## Step 1: Getting a random number\n",
    "\n",
    "First we need to import the random module so that we can generate random numbers."
   ]
  },
  {
   "cell_type": "code",
   "execution_count": 146,
   "metadata": {
    "collapsed": true
   },
   "outputs": [],
   "source": [
    "# Make sure you execute this cell otherwise Python will not know\n",
    "# any function inside the random module !!!\n",
    "\n",
    "import random"
   ]
  },
  {
   "cell_type": "markdown",
   "metadata": {},
   "source": [
    "In the random module, the function randint() returns a random integer with a value between the first argument and the second. Here is an example to generate a random number between 1 and 5:"
   ]
  },
  {
   "cell_type": "code",
   "execution_count": 147,
   "metadata": {},
   "outputs": [
    {
     "name": "stdout",
     "output_type": "stream",
     "text": [
      "1\n"
     ]
    }
   ],
   "source": [
    "print(random.randint(1, 5))"
   ]
  },
  {
   "cell_type": "markdown",
   "metadata": {},
   "source": [
    "Use the function **randint()** to generate a random number between 0 and 100 and store it in a variable **secret**"
   ]
  },
  {
   "cell_type": "code",
   "execution_count": 148,
   "metadata": {
    "collapsed": true
   },
   "outputs": [],
   "source": []
  },
  {
   "cell_type": "markdown",
   "metadata": {},
   "source": [
    "## Step 2: Checking the user input\n",
    "\n",
    "Now, let's write a function **good_guess()** that:\n",
    "* Takes two integer parameters: **secret** and **guess**\n",
    "* Compares the **secret** and **guess** values and print a clue if the secret smaller or bigger than the guess.\n",
    "* Returns **True** if the two numbers are equal, **False** otherwise "
   ]
  },
  {
   "cell_type": "code",
   "execution_count": 54,
   "metadata": {},
   "outputs": [
    {
     "name": "stdout",
     "output_type": "stream",
     "text": [
      "9\n",
      "The return value of example_function is 9\n"
     ]
    }
   ],
   "source": [
    "# Whilst you create a new function, it is quite common to call\n",
    "# it with some simple values, where you know the expected output\n",
    "# to see if it behaves as expected, like in this example.\n",
    "def example_function(a, b):\n",
    "    print(a + b)\n",
    "    return a + b\n",
    "\n",
    "r = example_function(3, 6)\n",
    "print('The return value of example_function is ' + str(r))"
   ]
  },
  {
   "cell_type": "code",
   "execution_count": 55,
   "metadata": {
    "collapsed": true
   },
   "outputs": [],
   "source": []
  },
  {
   "cell_type": "markdown",
   "metadata": {},
   "source": [
    "## Step 3a: Build a game logic giving 10 attemps\n",
    "\n",
    "Using a **for** loop and the function **range**, write some code that will capture the user input as an integer, check the value compared to the secret number using your function **good_guess()** and giving a maximum of 10 attemps to the user. (Do you remember **continue** and **break** statements? You may well need one of these two!).\n",
    "\n",
    "Once you have that working, you can add a display message that says 'You won in ... attempts!' if the user found the secret number in less than 10 attemps or 'You have lost!' otherwise."
   ]
  },
  {
   "cell_type": "code",
   "execution_count": 56,
   "metadata": {},
   "outputs": [
    {
     "name": "stdout",
     "output_type": "stream",
     "text": [
      "10\n",
      "The unknown number is larger than 10\n",
      "50\n",
      "The unknown number is smaller than 50\n",
      "30\n",
      "The unknown number is larger than 30\n",
      "40\n",
      "The unknown number is smaller than 40\n",
      "35\n",
      "The unknown number is larger than 35\n",
      "38\n",
      "The unknown number is larger than 38\n",
      "39\n",
      "Success\n",
      "You won in 6 attempts.\n"
     ]
    }
   ],
   "source": []
  },
  {
   "cell_type": "markdown",
   "metadata": {},
   "source": [
    "## Step 3b: Let's have unlimited attempts!\n",
    "\n",
    "Hard to win? This time, let's change it to have unlimited tries using a **while** loop. Make sure you also have a mechanism to count the number of attempts."
   ]
  },
  {
   "cell_type": "code",
   "execution_count": 61,
   "metadata": {},
   "outputs": [
    {
     "name": "stdout",
     "output_type": "stream",
     "text": [
      "50\n",
      "The unknown number is larger than 50\n",
      "75\n",
      "The unknown number is larger than 75\n",
      "90\n",
      "The unknown number is larger than 90\n",
      "95\n",
      "Success\n",
      "You won in 4 attempts.\n"
     ]
    }
   ],
   "source": []
  },
  {
   "cell_type": "markdown",
   "metadata": {},
   "source": [
    "# Bored of playing?\n",
    "\n",
    "We now have a game that we can play ourselves but as we are becoming 'coding ninjas', let's write a program that will play for us against the computer!\n",
    "\n",
    "We will have two approaches:\n",
    "1. Brute force: Randomly pick a number between 0 and 100 until we win.\n",
    "2. Human logic: When you play the game, I am sure that you have a certain strategy! Try to write a function that replicates your strategy!\n",
    "\n"
   ]
  },
  {
   "cell_type": "markdown",
   "metadata": {},
   "source": [
    "## Step 4: Another check function\n",
    "\n",
    "We are now going to make a slightly different version of our function **good_guess()** created in Step 2 by creating a new function called **check_guess()**. This new function will take two parameters **secret** and **guess** and\n",
    "* Return 0 if secret and guess are equals\n",
    "* Return 1 if secret is bigger than guess\n",
    "* Return -1 if secret is smaller than guess\n",
    "\n",
    "We will not include any **print()** statements in this function!"
   ]
  },
  {
   "cell_type": "code",
   "execution_count": 66,
   "metadata": {
    "collapsed": true
   },
   "outputs": [],
   "source": []
  },
  {
   "cell_type": "markdown",
   "metadata": {},
   "source": [
    "## Step 5: The brute force\n",
    "\n",
    "Starting with your code from Step 3b, make changes to now pick a random number between 0 and 100 instead of asking for the user input and use our new function **check_guess()**."
   ]
  },
  {
   "cell_type": "code",
   "execution_count": 68,
   "metadata": {},
   "outputs": [
    {
     "name": "stdout",
     "output_type": "stream",
     "text": [
      "You won in 264 attempts.\n"
     ]
    }
   ],
   "source": []
  },
  {
   "cell_type": "markdown",
   "metadata": {},
   "source": [
    "You should now have a block of code that automatically plays the game by randomly picking numbers until you win. We are now going to wrap all this code in a function called **play_brute_force()** that will return the number of attempts needed to win."
   ]
  },
  {
   "cell_type": "code",
   "execution_count": 78,
   "metadata": {
    "collapsed": true
   },
   "outputs": [],
   "source": []
  },
  {
   "cell_type": "code",
   "execution_count": null,
   "metadata": {},
   "outputs": [],
   "source": []
  },
  {
   "cell_type": "markdown",
   "metadata": {},
   "source": [
    "# Step 6: Your own strategy\n",
    "\n",
    "Use your own logic to try to solve the random number game in the least amount of tries."
   ]
  },
  {
   "cell_type": "code",
   "execution_count": 80,
   "metadata": {},
   "outputs": [
    {
     "name": "stdout",
     "output_type": "stream",
     "text": [
      "The computer won in 3 attempts using your logic.\n"
     ]
    }
   ],
   "source": []
  },
  {
   "cell_type": "markdown",
   "metadata": {},
   "source": [
    "Once you are satisfied with your logic, wrap your code into a function **play_logic()** that also returns the number of attempts needed to success."
   ]
  },
  {
   "cell_type": "code",
   "execution_count": 82,
   "metadata": {
    "collapsed": true
   },
   "outputs": [],
   "source": []
  },
  {
   "cell_type": "code",
   "execution_count": 83,
   "metadata": {},
   "outputs": [
    {
     "data": {
      "text/plain": [
       "5"
      ]
     },
     "execution_count": 83,
     "metadata": {},
     "output_type": "execute_result"
    }
   ],
   "source": []
  },
  {
   "cell_type": "markdown",
   "metadata": {},
   "source": [
    "## Step 7: Performance comparison\n",
    "\n",
    "We now have two functions **play_brute_force()** and **play_logic()** that play the game with different approaches. We want to do a performance comparison of the two techniques over 1000 games to find the average number of attempts needed to win.\n",
    "\n",
    "You will need a **for** loop and some data structures that we have learned last week."
   ]
  },
  {
   "cell_type": "code",
   "execution_count": 89,
   "metadata": {},
   "outputs": [
    {
     "name": "stdout",
     "output_type": "stream",
     "text": [
      "Brute forcing takes on average 105.894 attempts to win.\n",
      "Using logic takes on average 7.51 attempts to win.\n"
     ]
    }
   ],
   "source": []
  }
 ],
 "metadata": {
  "kernelspec": {
   "display_name": "Python 3 (ipykernel)",
   "language": "python",
   "name": "python3"
  },
  "language_info": {
   "codemirror_mode": {
    "name": "ipython",
    "version": 3
   },
   "file_extension": ".py",
   "mimetype": "text/x-python",
   "name": "python",
   "nbconvert_exporter": "python",
   "pygments_lexer": "ipython3",
   "version": "3.9.12"
  }
 },
 "nbformat": 4,
 "nbformat_minor": 2
}
