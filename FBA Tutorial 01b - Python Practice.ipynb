{
 "cells": [
  {
   "cell_type": "markdown",
   "metadata": {
    "colab_type": "text",
    "id": "GOnBP8wnxhPv"
   },
   "source": [
    "<p style=\"text-align: center;\">\n",
    "\n",
    "<big><big><big><b>FBA - Week 01b - Python Practice</b></big></big></big>\n",
    "</p>\n",
    "\n",
    "In this session we will aim to get comfortable with using the lab computers, introducing Jupyter notebooks and show how it is used for Python programming. We won’t be using actual program files in this tutorial, but just testing out/getting a feel for python commands in its “interactive mode”.\n",
    "\n",
    "What is Programming:\n",
    "Television shows and films often show programmers furiously typing cryptic streams of 1s and 0s on glowing screens, but modern programming isn’t that mysterious. Programming is simply the act of entering instructions for the computer to perform. These instructions might crunch some numbers, modify text, look up information in files, or communicate with other computers over the Internet.\n",
    "\n",
    "What do we need for it:\n",
    "A language that defines a set of words and rules that we are going to learn this semester to send instructions to the computer [Python]\n",
    "\n",
    "A development environment, to type in our language instructions, execute them and look at the results [Jupyter Notebooks]\n",
    "\n",
    "A language interpreter, that converts our written Python code into ‘machine code’ and vice versa. [Python Interpreter]\n",
    "\n",
    "Jupyter Notebooks are simply a convenient graphical interface to write and execute Python code. However, there are a lot of other development environments such as IDLE - “the Python Integrated Development Environment”, ECLIPSE, VIM, emacs... and even online versions such as the one at repl.it (please feel free to try any of these - have a look at https://repl.it for example).\n",
    "\n",
    "Python interactive mode\n",
    "Python has two basic modes: script and interactive. The script mode is the mode where a script (i.e. a succession of commands) is run in the Python interpreter until it finishes and outputs results (on the screen, in a file, on a plot, ...). On the other side the interactive mode gives immediate feedback for each statement which is a good way to play around and try variations on syntax.\n",
    "\n",
    "Like a calculator\n",
    "Typing mathematical operations in the Python interactive mode is very much like using a calculator so let's experiment with that.\n",
    "\n",
    "Type a mathematical operation of your choice in the box below and execute it by pressing or the 'Run' button at the top of the screen or using the 'Shift' + 'Enter' keyboard shortcut.\n",
    "\n",
    "You should see the result of your operation next to the 'Out [..]' line.\n",
    "\n",
    "## This practical focuses on the concepts of:\n",
    "1. Mathematical Operators\n",
    "2. Strings\n",
    "3. Data types & Casting\n",
    "4. Variables\n",
    "5. Core functions\n",
    "6. Introduction to if statements\n",
    "\n",
    "<hr/>\n",
    "To get started, let's refresh our minds with a simple addition"
   ]
  },
  {
   "cell_type": "code",
   "execution_count": 1,
   "metadata": {
    "colab": {},
    "colab_type": "code",
    "id": "BA6bULWXxhPy"
   },
   "outputs": [
    {
     "data": {
      "text/plain": [
       "4"
      ]
     },
     "execution_count": 1,
     "metadata": {},
     "output_type": "execute_result"
    }
   ],
   "source": [
    "# Press 'Run' or 'Shift'+'Enter' to run the code and visualise the output\n",
    "2+2"
   ]
  },
  {
   "cell_type": "markdown",
   "metadata": {
    "colab_type": "text",
    "id": "Z901VHkIxhQB"
   },
   "source": [
    "Let's now practice our operators and their prevalence by computing the value of the following fraction:\n",
    "\n",
    "$$\\frac{(27+3)*10}{2^4-1}$$"
   ]
  },
  {
   "cell_type": "code",
   "execution_count": 2,
   "metadata": {
    "colab": {},
    "colab_type": "code",
    "id": "I1StnqRAxhQD"
   },
   "outputs": [
    {
     "data": {
      "text/plain": [
       "20.0"
      ]
     },
     "execution_count": 2,
     "metadata": {},
     "output_type": "execute_result"
    }
   ],
   "source": [
    "# Your code here\n"
   ]
  },
  {
   "cell_type": "markdown",
   "metadata": {
    "colab_type": "text",
    "id": "uhGNRHT1xhQO"
   },
   "source": [
    "## Integer\n",
    "\n",
    "Create a variable a and assign it the value of 27"
   ]
  },
  {
   "cell_type": "code",
   "execution_count": 3,
   "metadata": {
    "colab": {},
    "colab_type": "code",
    "id": "Y9Hb5aJ8xhQQ"
   },
   "outputs": [],
   "source": [
    "# Your code here\n"
   ]
  },
  {
   "cell_type": "markdown",
   "metadata": {
    "colab_type": "text",
    "id": "tSrZHpaexhQU"
   },
   "source": [
    "Check the type of the variable a"
   ]
  },
  {
   "cell_type": "code",
   "execution_count": 4,
   "metadata": {
    "colab": {},
    "colab_type": "code",
    "id": "bs8d5gqCxhQW"
   },
   "outputs": [
    {
     "data": {
      "text/plain": [
       "int"
      ]
     },
     "execution_count": 4,
     "metadata": {},
     "output_type": "execute_result"
    }
   ],
   "source": [
    "# Your code here\n"
   ]
  },
  {
   "cell_type": "markdown",
   "metadata": {
    "colab_type": "text",
    "id": "VowjGou8xhQd"
   },
   "source": [
    "## Float\n",
    "Create a variable b and assign it the value of 3.0"
   ]
  },
  {
   "cell_type": "code",
   "execution_count": 5,
   "metadata": {
    "colab": {},
    "colab_type": "code",
    "id": "lAMrwXp9xhQf"
   },
   "outputs": [],
   "source": [
    "# Your code here\n"
   ]
  },
  {
   "cell_type": "markdown",
   "metadata": {
    "colab_type": "text",
    "id": "lkQqVAYOxhQl"
   },
   "source": [
    "Check the type of the variable b"
   ]
  },
  {
   "cell_type": "code",
   "execution_count": 6,
   "metadata": {
    "colab": {},
    "colab_type": "code",
    "id": "WBtdjTyHxhQo"
   },
   "outputs": [
    {
     "data": {
      "text/plain": [
       "float"
      ]
     },
     "execution_count": 6,
     "metadata": {},
     "output_type": "execute_result"
    }
   ],
   "source": [
    "# Your code here\n"
   ]
  },
  {
   "cell_type": "markdown",
   "metadata": {
    "colab_type": "text",
    "id": "kjZoELA9xhQ1"
   },
   "source": [
    "## String\n",
    "Create a variable c and assign it the value of 'three'"
   ]
  },
  {
   "cell_type": "code",
   "execution_count": 7,
   "metadata": {
    "colab": {},
    "colab_type": "code",
    "id": "jN753bwVxhQ3"
   },
   "outputs": [],
   "source": [
    "# Your code here\n"
   ]
  },
  {
   "cell_type": "markdown",
   "metadata": {
    "colab_type": "text",
    "id": "uU5xQGxBxhQ_"
   },
   "source": [
    "Check the type of the variable c"
   ]
  },
  {
   "cell_type": "code",
   "execution_count": 8,
   "metadata": {
    "colab": {},
    "colab_type": "code",
    "id": "jtva9jOYxhRB"
   },
   "outputs": [
    {
     "data": {
      "text/plain": [
       "str"
      ]
     },
     "execution_count": 8,
     "metadata": {},
     "output_type": "execute_result"
    }
   ],
   "source": [
    "# Your code here\n"
   ]
  },
  {
   "cell_type": "markdown",
   "metadata": {
    "colab_type": "text",
    "id": "BkYwnSCFxhRI"
   },
   "source": [
    "## Casting to a different data type\n",
    "\n",
    "Using the casting functions str(), int(), float() try to case your variables a, b and c to different data types, experiment what works and what doesn't."
   ]
  },
  {
   "cell_type": "code",
   "execution_count": 9,
   "metadata": {
    "colab": {},
    "colab_type": "code",
    "id": "Vue996HxxhRJ"
   },
   "outputs": [],
   "source": []
  },
  {
   "cell_type": "markdown",
   "metadata": {
    "colab_type": "text",
    "id": "t8SCBIbWxhRP"
   },
   "source": [
    "## Towards scripting\n",
    "\n",
    "You can write multiple instructions in the same 'code' cell to build small blocks of logics. Here is an example:"
   ]
  },
  {
   "cell_type": "code",
   "execution_count": 10,
   "metadata": {
    "colab": {},
    "colab_type": "code",
    "id": "bsYcPAbmxhRQ"
   },
   "outputs": [
    {
     "name": "stdout",
     "output_type": "stream",
     "text": [
      "3\n"
     ]
    }
   ],
   "source": [
    "a = 2\n",
    "b = 1\n",
    "c = a + b\n",
    "print(c)"
   ]
  },
  {
   "cell_type": "markdown",
   "metadata": {
    "colab_type": "text",
    "id": "4RGJBEQsxhRV"
   },
   "source": [
    "Following the same principle, do the following actions all in the same 'code' cell:\n",
    "- Create a variable x and assign it the value 27\n",
    "- Create a variable y and assign it the value 3\n",
    "- Create a variable n and assign it the value 4\n",
    "- Create a variable z and assign it the value of:\n",
    "$$z=\\frac{(x+y)*10}{2^n-1}$$\n",
    "- Print the value of z"
   ]
  },
  {
   "cell_type": "code",
   "execution_count": 11,
   "metadata": {
    "colab": {},
    "colab_type": "code",
    "id": "QhFZJcsYxhRX"
   },
   "outputs": [
    {
     "name": "stdout",
     "output_type": "stream",
     "text": [
      "20.0\n"
     ]
    }
   ],
   "source": [
    "# Your code here\n"
   ]
  },
  {
   "cell_type": "markdown",
   "metadata": {
    "colab_type": "text",
    "id": "YkoDF4VfxhRc"
   },
   "source": [
    "You can now change the value of any of our parameters and compute the new value of our variable z."
   ]
  },
  {
   "cell_type": "markdown",
   "metadata": {
    "colab_type": "text",
    "id": "nAMYsSCUxhRe"
   },
   "source": [
    "## Capturing the user input\n",
    "\n",
    "Capture the user's input using the function input() and store the value in a variable."
   ]
  },
  {
   "cell_type": "code",
   "execution_count": 12,
   "metadata": {
    "colab": {},
    "colab_type": "code",
    "id": "gbu_HRPBxhRj"
   },
   "outputs": [
    {
     "name": "stdout",
     "output_type": "stream",
     "text": [
      "20\n"
     ]
    }
   ],
   "source": [
    "# Your code here\n"
   ]
  },
  {
   "cell_type": "markdown",
   "metadata": {
    "colab_type": "text",
    "id": "XNkPyF27xhR0"
   },
   "source": [
    "Print on the screen the value that the user has entered and check its type"
   ]
  },
  {
   "cell_type": "code",
   "execution_count": 13,
   "metadata": {
    "colab": {},
    "colab_type": "code",
    "id": "cWTia6SCxhR2"
   },
   "outputs": [
    {
     "name": "stdout",
     "output_type": "stream",
     "text": [
      "The user entered: 20\n",
      "The type of user_input is <class 'str'>\n"
     ]
    }
   ],
   "source": [
    "# Your code here\n"
   ]
  },
  {
   "cell_type": "markdown",
   "metadata": {
    "colab_type": "text",
    "id": "7Rp4MLlxxhSC"
   },
   "source": [
    "# Our first program\n",
    "\n",
    "Let's write a program that ask the user to enter its name, then its age and finally display the sentence:\n",
    "\n",
    "***Your name is [...], and you are [...] years old*** \n",
    "\n",
    "(replace the [...] by the values entered by the user)"
   ]
  },
  {
   "cell_type": "code",
   "execution_count": 14,
   "metadata": {
    "colab": {},
    "colab_type": "code",
    "id": "D6-1mgt_xhSD"
   },
   "outputs": [
    {
     "name": "stdout",
     "output_type": "stream",
     "text": [
      "Jane\n",
      "18\n",
      "Your name is Jane, and you are 18 years old\n"
     ]
    }
   ],
   "source": [
    "# Your code here\n"
   ]
  },
  {
   "cell_type": "markdown",
   "metadata": {
    "colab_type": "text",
    "id": "WYzyMwXVxhSO"
   },
   "source": [
    "Let's now slightly modify our program so that it now displays how old you will be next year (the program will still ask the **current** age of the user):\n",
    "\n",
    "***Your name is [...] and you will be [...] next year***"
   ]
  },
  {
   "cell_type": "code",
   "execution_count": 15,
   "metadata": {
    "colab": {},
    "colab_type": "code",
    "id": "ce9vgK3MxhSQ"
   },
   "outputs": [
    {
     "name": "stdout",
     "output_type": "stream",
     "text": [
      "Jane\n",
      "18\n",
      "Your name is Jane and you will be 19 next year\n"
     ]
    }
   ],
   "source": [
    "# Your code here\n"
   ]
  },
  {
   "cell_type": "markdown",
   "metadata": {
    "colab_type": "text",
    "id": "x17_8QKkxhSZ"
   },
   "source": [
    "\n",
    "# You have got an ice cream van"
   ]
  },
  {
   "cell_type": "markdown",
   "metadata": {
    "colab_type": "text",
    "id": "XhkFKS7ZxhSa"
   },
   "source": [
    "Last year, you were looking to invest in a business in UNNC and decided to take over an ice cream van business.\n",
    "\n",
    "Before the take over, the van was selling ice creams in city centre and reported the following sales:\n",
    "\n",
    "|<i></i>|  January | February | March | April | May | June | July | August | September | October | November | December|\n",
    "|-|-|-|-|-|-|-|-|-|-|-|-|-|\n",
    "|2015|¥1000|¥1100|¥1200|¥1300|¥1400|¥1500|¥1500|¥1400|¥1300|¥1200|¥1100|¥1000|\n",
    "|2016|¥1100|¥1200|¥1300|¥1400|¥1500|¥1600|¥1600|¥1500|¥1400|¥1300|¥1200|¥1100|\n",
    "\n",
    "Make good use of variables, it will avoid you typing repeatedly the same numbers !\n",
    "\n",
    "**<font color=green><font size=5>&rarr;</font> What was the total revenue for year 2015 ?</font>**"
   ]
  },
  {
   "cell_type": "code",
   "execution_count": 16,
   "metadata": {
    "colab": {},
    "colab_type": "code",
    "id": "Q43XhfAExhSb"
   },
   "outputs": [
    {
     "name": "stdout",
     "output_type": "stream",
     "text": [
      "The revenue in 2015 was £15000\n"
     ]
    }
   ],
   "source": [
    "# Your code here\n"
   ]
  },
  {
   "cell_type": "markdown",
   "metadata": {
    "colab_type": "text",
    "id": "DGpX8e7DxhSg"
   },
   "source": [
    "**<font color=green><font size=5>&rarr;</font> What was the total revenue for year 2016 ? (pay attention to the symmetry of sales, there is a tip to reduce the amount of typing!)</font>**"
   ]
  },
  {
   "cell_type": "code",
   "execution_count": 17,
   "metadata": {
    "colab": {},
    "colab_type": "code",
    "id": "hX2zyMLtxhSh"
   },
   "outputs": [
    {
     "name": "stdout",
     "output_type": "stream",
     "text": [
      "The revenue in 2016 was £16200\n"
     ]
    }
   ],
   "source": [
    "# Your code here\n"
   ]
  },
  {
   "cell_type": "markdown",
   "metadata": {
    "colab_type": "text",
    "id": "2_T5kqbUxhSs"
   },
   "source": [
    "**<font color=green><font size=5>&rarr;</font>  What was the average monthly income for year 2016? (reuse variables!)</font>**"
   ]
  },
  {
   "cell_type": "code",
   "execution_count": 18,
   "metadata": {
    "colab": {},
    "colab_type": "code",
    "id": "3zWxryTyxhSu"
   },
   "outputs": [
    {
     "name": "stdout",
     "output_type": "stream",
     "text": [
      "The average monthly income in 2016 was £1350.0\n"
     ]
    }
   ],
   "source": [
    "# Your code here\n"
   ]
  },
  {
   "cell_type": "markdown",
   "metadata": {
    "colab_type": "text",
    "id": "oppCP8aIxhS4"
   },
   "source": [
    "**<font color=green><font size=5>&rarr;</font> What was profit increase (%) of the business between 2015 and 2016?</font>**"
   ]
  },
  {
   "cell_type": "code",
   "execution_count": 19,
   "metadata": {
    "colab": {},
    "colab_type": "code",
    "id": "AALp1xb3xhS_"
   },
   "outputs": [
    {
     "name": "stdout",
     "output_type": "stream",
     "text": [
      "The revenue increased by 8.00% between 2015 and 2016.\n"
     ]
    }
   ],
   "source": [
    "# Your code here\n"
   ]
  },
  {
   "cell_type": "markdown",
   "metadata": {
    "colab_type": "text",
    "id": "tVM0DEZuxhTE"
   },
   "source": [
    "**<font color=green><font size=5>&rarr;</font> It is expected that the business will continue to grow at the same pace, what total revenue should you expect for year 2017?</font>**"
   ]
  },
  {
   "cell_type": "code",
   "execution_count": 20,
   "metadata": {
    "colab": {},
    "colab_type": "code",
    "id": "mQpufo65xhTF"
   },
   "outputs": [
    {
     "name": "stdout",
     "output_type": "stream",
     "text": [
      "The expected revenue for 2017 is ¥17496.0\n"
     ]
    }
   ],
   "source": [
    "# Your code here\n"
   ]
  },
  {
   "cell_type": "markdown",
   "metadata": {
    "colab_type": "text",
    "id": "Qi-Qu66jxhTI"
   },
   "source": [
    "\n",
    "### The harsh reality\n",
    "At the end of 2017, your ice cream van reported the following sales earned from UNNC for the year:\n",
    "\n",
    "|<i></i>| January | February | March | April | May | June | July | August | September | October | November | December|\n",
    "|-|-|-|-|-|-|-|-|-|-|-|-|-|\n",
    "|2017|¥500|¥1600|¥1700|¥1800|¥1900|¥500|¥500|¥500|¥1800|¥1700|¥1600|¥500|"
   ]
  },
  {
   "cell_type": "markdown",
   "metadata": {
    "colab_type": "text",
    "id": "nflaVbj4xhTK"
   },
   "source": [
    "**<font color=green><font size=5>&rarr;</font> What was the actual revenue for 2017?</font>**"
   ]
  },
  {
   "cell_type": "code",
   "execution_count": 21,
   "metadata": {
    "colab": {},
    "colab_type": "code",
    "id": "tdhykHilxhTL"
   },
   "outputs": [
    {
     "name": "stdout",
     "output_type": "stream",
     "text": [
      "The revenue in 2017 was ¥14600\n"
     ]
    }
   ],
   "source": [
    "# Your code here\n"
   ]
  },
  {
   "cell_type": "markdown",
   "metadata": {
    "colab_type": "text",
    "id": "Kr1mPdhNxhTQ"
   },
   "source": [
    "**<font color=green><font size=5>&rarr;</font> Using a if statement, compare the actual revenue for 2017 to the expected one and print whether 'You have over performed' or 'You have under performed'</font>**"
   ]
  },
  {
   "cell_type": "code",
   "execution_count": 22,
   "metadata": {
    "colab": {},
    "colab_type": "code",
    "id": "YRBKNfgBxhTS"
   },
   "outputs": [
    {
     "name": "stdout",
     "output_type": "stream",
     "text": [
      "You have under performed\n"
     ]
    }
   ],
   "source": [
    "# Your code here\n"
   ]
  },
  {
   "cell_type": "markdown",
   "metadata": {
    "colab_type": "text",
    "id": "pyAY1cS1xhTV"
   },
   "source": [
    "**<font color=green><font size=5>&rarr;</font> How much of a loss (in %) does this actual revenue represent compared to the expected revenue?</font>**"
   ]
  },
  {
   "cell_type": "code",
   "execution_count": 23,
   "metadata": {
    "colab": {},
    "colab_type": "code",
    "id": "vYDqaFHXxhTW"
   },
   "outputs": [
    {
     "name": "stdout",
     "output_type": "stream",
     "text": [
      "The loss compared to the expected revenue for 2017 is -16.55235482395976%\n"
     ]
    }
   ],
   "source": [
    "# Your code here\n"
   ]
  },
  {
   "cell_type": "markdown",
   "metadata": {
    "colab_type": "text",
    "id": "LlUA91YRxhTo"
   },
   "source": [
    "# Challenge\n",
    "\n",
    " Let's first consider the 7 months where the ice cream van is performing better in UNNC compared to the city centre and keep that successful side of the business as it is. We now want to find what minimum monthly sale for the 5 'under-performing' months we need to make to reach our expected revenue for 2017.\n",
    "    \n",
    "**<font color=green><font size=5>&rarr;</font> Write a program that ask the user to input a monthly sale value for the 5 'under-performing' months and print back whether 'You would be in profit!' or 'You would still be in deficit!' with that value</font>**"
   ]
  },
  {
   "cell_type": "code",
   "execution_count": 24,
   "metadata": {
    "colab": {},
    "colab_type": "code",
    "id": "phGv7_avxhTo"
   },
   "outputs": [
    {
     "name": "stdout",
     "output_type": "stream",
     "text": [
      "12100\n"
     ]
    }
   ],
   "source": [
    "# Your code here\n"
   ]
  },
  {
   "cell_type": "code",
   "execution_count": 25,
   "metadata": {
    "colab": {},
    "colab_type": "code",
    "id": "Qouy50uPxhTv"
   },
   "outputs": [
    {
     "name": "stdout",
     "output_type": "stream",
     "text": [
      "700\n",
      "You would still be in deficit!\n"
     ]
    }
   ],
   "source": [
    "# Your code here\n"
   ]
  },
  {
   "cell_type": "code",
   "execution_count": null,
   "metadata": {},
   "outputs": [],
   "source": []
  }
 ],
 "metadata": {
  "colab": {
   "name": "FBA - Week 02b - Python Practice (With Solutions).ipynb",
   "provenance": [],
   "version": "0.3.2"
  },
  "kernelspec": {
   "display_name": "Python 3 (ipykernel)",
   "language": "python",
   "name": "python3"
  },
  "language_info": {
   "codemirror_mode": {
    "name": "ipython",
    "version": 3
   },
   "file_extension": ".py",
   "mimetype": "text/x-python",
   "name": "python",
   "nbconvert_exporter": "python",
   "pygments_lexer": "ipython3",
   "version": "3.9.12"
  }
 },
 "nbformat": 4,
 "nbformat_minor": 1
}
