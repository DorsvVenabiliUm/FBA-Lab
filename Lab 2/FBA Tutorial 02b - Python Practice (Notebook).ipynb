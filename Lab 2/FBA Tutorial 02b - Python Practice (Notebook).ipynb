{
 "cells": [
  {
   "cell_type": "markdown",
   "metadata": {},
   "source": [
    "\n",
    "<big><big><big><b>FBA - Tutorial 02b - Python Practice</b></big></big></big>\n",
    "</p>\n",
    "\n",
    "This practical focuses on concepts that will be core to our analytics using python:\n",
    "1. Booleans, Comparison Operators, Logical Operators\n",
    "2. If statements\n",
    "3. Block Indentation\n",
    "4. Lists\n",
    "5. For loops\n",
    "\n",
    "<hr/>\n",
    "To get started, let's refresh our minds with a simple addition,,,"
   ]
  },
  {
   "cell_type": "markdown",
   "metadata": {},
   "source": [
    "## Booleans"
   ]
  },
  {
   "cell_type": "code",
   "execution_count": 16,
   "metadata": {
    "collapsed": true
   },
   "outputs": [],
   "source": [
    "x = True\n",
    "y = False"
   ]
  },
  {
   "cell_type": "markdown",
   "metadata": {},
   "source": [
    "**<font color=green><font size=5>&rarr;</font> Check the types of the variables x and y**"
   ]
  },
  {
   "cell_type": "code",
   "execution_count": null,
   "metadata": {},
   "outputs": [],
   "source": []
  },
  {
   "cell_type": "markdown",
   "metadata": {},
   "source": [
    "## Comparison Operators\n",
    "\n",
    "It is often extremely useful in analytics to compare two business variables. Let's define two variables ***a*** and ***b***, you should remember from last that they have different data types, respectively integer and float."
   ]
  },
  {
   "cell_type": "code",
   "execution_count": 2,
   "metadata": {
    "collapsed": true
   },
   "outputs": [],
   "source": [
    "a = 3\n",
    "b = 3.0"
   ]
  },
  {
   "cell_type": "markdown",
   "metadata": {},
   "source": [
    "**<font color=green><font size=5>&rarr;</font> Experiment the different comparison operators between variables a and b**"
   ]
  },
  {
   "cell_type": "code",
   "execution_count": null,
   "metadata": {},
   "outputs": [],
   "source": []
  },
  {
   "cell_type": "markdown",
   "metadata": {},
   "source": [
    "Comparison operators also work for strings and are **case sensitive**"
   ]
  },
  {
   "cell_type": "code",
   "execution_count": 4,
   "metadata": {},
   "outputs": [
    {
     "name": "stdout",
     "output_type": "stream",
     "text": [
      "False\n",
      "True\n"
     ]
    }
   ],
   "source": [
    "print('hello' == 'Hello')\n",
    "print('dog' != 'cat')"
   ]
  },
  {
   "cell_type": "markdown",
   "metadata": {},
   "source": [
    "You can also use comparison operators between a variable and a value."
   ]
  },
  {
   "cell_type": "code",
   "execution_count": 18,
   "metadata": {},
   "outputs": [
    {
     "data": {
      "text/plain": [
       "True"
      ]
     },
     "execution_count": 18,
     "metadata": {},
     "output_type": "execute_result"
    }
   ],
   "source": [
    "my_age = 29\n",
    "my_age >= 10"
   ]
  },
  {
   "cell_type": "markdown",
   "metadata": {},
   "source": [
    "Let's now define a couple of variables:"
   ]
  },
  {
   "cell_type": "code",
   "execution_count": 20,
   "metadata": {
    "collapsed": true
   },
   "outputs": [],
   "source": [
    "x_int = 3\n",
    "x_float = 3.0\n",
    "x_string = '3'"
   ]
  },
  {
   "cell_type": "markdown",
   "metadata": {},
   "source": [
    "**<font color=green><font size=5>&rarr;</font> As you can see, we have defined the 'same' value under different types. Try to cast the variables to different types and experiment the effects on the comparison**"
   ]
  },
  {
   "cell_type": "code",
   "execution_count": null,
   "metadata": {},
   "outputs": [],
   "source": []
  },
  {
   "cell_type": "markdown",
   "metadata": {},
   "source": [
    "## Logical operators\n",
    "\n",
    "**<font color=green><font size=5>&rarr;</font> Below are a set of conditions, ultimately resulting in a Boolean output. Try to add some parenthesis and check how it affects the Boolean value returned**"
   ]
  },
  {
   "cell_type": "code",
   "execution_count": 32,
   "metadata": {},
   "outputs": [
    {
     "data": {
      "text/plain": [
       "True"
      ]
     },
     "execution_count": 32,
     "metadata": {},
     "output_type": "execute_result"
    }
   ],
   "source": [
    "3 < 4 and 10 % 2 == 0 or 9 % 3 == 0 or 7 + 3 > 10 and 'this text' == 'This text'"
   ]
  },
  {
   "cell_type": "code",
   "execution_count": null,
   "metadata": {},
   "outputs": [],
   "source": []
  },
  {
   "cell_type": "markdown",
   "metadata": {},
   "source": [
    "## If statements\n",
    "\n",
    "\n",
    "The reason we learn comparisons and logical operators in our scripting, is often because we use them in **if** statements (often called conditionals). These will allow our scripts to take different routes and actions depending on the value of certain business variables.\n",
    "\n",
    "Here is an example of an ***if***, ***elif***, ***else*** statement. \n",
    "\n",
    "**<font color=green><font size=5>&rarr;</font> Change the value of the variable to see how the different conditions are met.**"
   ]
  },
  {
   "cell_type": "code",
   "execution_count": 34,
   "metadata": {},
   "outputs": [
    {
     "name": "stdout",
     "output_type": "stream",
     "text": [
      "You are between 10 and 30 years old\n"
     ]
    }
   ],
   "source": [
    "age = 29\n",
    "if age < 10:\n",
    "    print('You are under 10 years old')\n",
    "elif age > 30:\n",
    "    print('You are over 30 years old')\n",
    "else:\n",
    "    print('You are between 10 and 30 years old')"
   ]
  },
  {
   "cell_type": "markdown",
   "metadata": {},
   "source": [
    "**<font color=green><font size=5>&rarr;</font> Guess the ouput of this code! Why is that?**"
   ]
  },
  {
   "cell_type": "code",
   "execution_count": null,
   "metadata": {},
   "outputs": [],
   "source": [
    "age = 29\n",
    "if age > 10:\n",
    "    print('You are over 10 years old')\n",
    "if age > 20:\n",
    "    print('You are over 20 years old')"
   ]
  },
  {
   "cell_type": "markdown",
   "metadata": {},
   "source": [
    "**<font color=green><font size=5>&rarr;</font> Write a program that defines a variable temperature and tells you how to dress when it is under 10 degrees, between 10 and 30 degrees, and over 30 degrees. Write it two ways, once with the use of a logical operator and once without.**"
   ]
  },
  {
   "cell_type": "code",
   "execution_count": null,
   "metadata": {},
   "outputs": [],
   "source": []
  },
  {
   "cell_type": "code",
   "execution_count": null,
   "metadata": {},
   "outputs": [],
   "source": []
  },
  {
   "cell_type": "markdown",
   "metadata": {},
   "source": [
    "## Block indentation\n",
    "\n",
    "Remember that when you can define blocks of code by using the correct indentation. You will need it in the rest of this tutorial."
   ]
  },
  {
   "cell_type": "markdown",
   "metadata": {},
   "source": [
    "## Loops\n",
    "\n",
    "Loops are the final key part of our basic scripting armoury. By combining variable, if statements and loops, we will be able to do all our analytics probelms (although we may use other people's code 'libraries' to make life simpler for us too). Let's see if you can give it a go!\n",
    "\n",
    "**<font color=green><font size=5>&rarr;</font> Write a while loop that prints the numbers from 0 to 20**"
   ]
  },
  {
   "cell_type": "code",
   "execution_count": null,
   "metadata": {},
   "outputs": [],
   "source": []
  },
  {
   "cell_type": "markdown",
   "metadata": {},
   "source": [
    "**<font color=green><font size=5>&rarr;</font> Write a while loop that displays only the even numbers between 0 and 20**"
   ]
  },
  {
   "cell_type": "code",
   "execution_count": null,
   "metadata": {},
   "outputs": [],
   "source": []
  },
  {
   "cell_type": "markdown",
   "metadata": {},
   "source": [
    "**<font color=green><font size=5>&rarr;</font> Do the same using a for loop and the function range()**"
   ]
  },
  {
   "cell_type": "code",
   "execution_count": null,
   "metadata": {},
   "outputs": [],
   "source": []
  },
  {
   "cell_type": "markdown",
   "metadata": {},
   "source": [
    "**<font color=green><font size=5>&rarr;</font> Here is an example of a slightly more complex while loop, try to understand the code and imagine what it will do. Once you have your idea, run the code and check that it behaves as expected!**"
   ]
  },
  {
   "cell_type": "code",
   "execution_count": 38,
   "metadata": {},
   "outputs": [
    {
     "name": "stdout",
     "output_type": "stream",
     "text": [
      "Please type your name:\n",
      "your name\n",
      "Thank you!\n"
     ]
    }
   ],
   "source": [
    "name = ''\n",
    "while name != 'your name':\n",
    "    print('Please type your name:')\n",
    "    name = input()\n",
    "print('Thank you!')"
   ]
  },
  {
   "cell_type": "markdown",
   "metadata": {},
   "source": [
    "**<font color=green><font size=5>&rarr;</font> Copy your code from the previous question and modify it slightly to add a counter that tells you how many tries you have had, e.g.,:**  <br/>\n",
    "'This is your try number 1, Please type your name'<br/>\n",
    "'This is your try number 2, Please type your name'"
   ]
  },
  {
   "cell_type": "code",
   "execution_count": null,
   "metadata": {},
   "outputs": [],
   "source": []
  },
  {
   "cell_type": "markdown",
   "metadata": {},
   "source": [
    "**<font color=green><font size=5>&rarr;</font> Copy your code from the previous question and add the functionnality to get a 'free' try if you type the word 'Joker'!**"
   ]
  },
  {
   "cell_type": "code",
   "execution_count": null,
   "metadata": {},
   "outputs": [],
   "source": []
  },
  {
   "cell_type": "markdown",
   "metadata": {},
   "source": [
    "**<font color=green><font size=5>&rarr;</font> Copy your code from the previous question and add the functionality to exit the loop if you type 'I give up!'**"
   ]
  },
  {
   "cell_type": "code",
   "execution_count": null,
   "metadata": {},
   "outputs": [],
   "source": []
  },
  {
   "cell_type": "markdown",
   "metadata": {},
   "source": [
    "## Lists\n",
    "\n",
    "We will, in business problems, always be storing data - in our scripting language, python, lists are the data structure we will often use to do this! Below is a reminder of how you create a new list and assign it to a variable."
   ]
  },
  {
   "cell_type": "code",
   "execution_count": 45,
   "metadata": {
    "collapsed": true
   },
   "outputs": [],
   "source": [
    "example_list = [2, 34, 27, -8]"
   ]
  },
  {
   "cell_type": "markdown",
   "metadata": {},
   "source": [
    "**<font color=green><font size=5>&rarr;</font> Create a new list containing the days of the week and store it in a variable.**"
   ]
  },
  {
   "cell_type": "code",
   "execution_count": null,
   "metadata": {
    "collapsed": true
   },
   "outputs": [],
   "source": []
  },
  {
   "cell_type": "markdown",
   "metadata": {},
   "source": [
    "## For loops\n",
    "\n",
    "**<font color=green><font size=5>&rarr;</font> Using your newly created list, use a loop to display the different days of the week.**"
   ]
  },
  {
   "cell_type": "code",
   "execution_count": null,
   "metadata": {},
   "outputs": [],
   "source": []
  },
  {
   "cell_type": "markdown",
   "metadata": {},
   "source": [
    "## First Business example - Back to ice creams !\n",
    "\n",
    "Let's now go back to our ice cream business and see how we could have made our lives a bit simpler last week if we had known about lists and loops!\n",
    "\n",
    "Here is a reminder of the sales of our business:\n",
    "\n",
    "|-| January | February | March | April | May | June | July | August | September | October | November | December\n",
    "|-|-|-|-|-|-|-|-|-|-|-|-|-|\n",
    "|2015|£1000|£1100|£1200|£1300|£1400|£1500|£1500|£1400|£1300|£1200|£1100|£1000|\n",
    "|2016|£1100|£1200|£1300|£1400|£1500|£1600|£1600|£1500|£1400|£1300|£1200|£1100|"
   ]
  },
  {
   "cell_type": "markdown",
   "metadata": {},
   "source": [
    "### Revenue 2015\n",
    "\n",
    "**<font color=green><font size=5>&rarr;</font> Create a list that contains the montly sales for year 2015**"
   ]
  },
  {
   "cell_type": "code",
   "execution_count": null,
   "metadata": {
    "collapsed": true
   },
   "outputs": [],
   "source": []
  },
  {
   "cell_type": "markdown",
   "metadata": {},
   "source": [
    "**<font color=green><font size=5>&rarr;</font> Using a for loop and your list, compute the total revenue for 2015**"
   ]
  },
  {
   "cell_type": "code",
   "execution_count": null,
   "metadata": {},
   "outputs": [],
   "source": []
  },
  {
   "cell_type": "markdown",
   "metadata": {},
   "source": [
    "### Revenue 2016\n",
    "\n",
    "This time, our ice cream business provided you the list of sales for 2016 which is great, it will save you some typing. Be aware, however, that the tech guy of our ice cream business may have not made the most sensible choices (and this is not made up for this tutorial, this is what you will regurlarly deal with as a data scientist!)."
   ]
  },
  {
   "cell_type": "code",
   "execution_count": null,
   "metadata": {
    "collapsed": true
   },
   "outputs": [],
   "source": [
    "sales_2016 = ['1100','1200','1300','1400','1500','1600','1600','1500','1400','1300','1200','1100']"
   ]
  },
  {
   "cell_type": "markdown",
   "metadata": {},
   "source": [
    "**<font color=green><font size=5>&rarr;</font> Using the provided list, compute the total revenue for 2016**"
   ]
  },
  {
   "cell_type": "code",
   "execution_count": null,
   "metadata": {},
   "outputs": [],
   "source": []
  },
  {
   "cell_type": "markdown",
   "metadata": {},
   "source": [
    "## Average monthly sale 2016\n",
    "\n",
    "**<font color=green><font size=5>&rarr;</font> Compute the average monthly sale for year 2016**"
   ]
  },
  {
   "cell_type": "code",
   "execution_count": null,
   "metadata": {
    "collapsed": true
   },
   "outputs": [],
   "source": []
  },
  {
   "cell_type": "markdown",
   "metadata": {},
   "source": [
    "### Under performing months for 2017\n",
    "\n",
    "<font color=green><font size=5>&rarr;</font> This time, our business has also provided you the monthly sales for 2017 and is interested to see, for each month, whether it has performed less or better than the average monthly sale for 2016."
   ]
  },
  {
   "cell_type": "code",
   "execution_count": null,
   "metadata": {
    "collapsed": true
   },
   "outputs": [],
   "source": [
    "sales_2017 = [500,1600,1700,1800,1900,500,500,500,1800,1700,1600,500]"
   ]
  },
  {
   "cell_type": "code",
   "execution_count": null,
   "metadata": {},
   "outputs": [],
   "source": []
  },
  {
   "cell_type": "markdown",
   "metadata": {},
   "source": [
    "## Market Trading\n",
    "\n",
    "To finish off, let's look at a Market Trading example. Suppose that you had data collected by a market trader who records the sales of two products over a 6 month period:\n",
    "\n",
    "|-|Month 1|Month 2|Month 3|Month 4|Month 5|Month 6|\n",
    "|-|-|-|-|-|-|-|\n",
    "|Sunscreen|5|10|20|25|30|30|\n",
    "|Umbrellas|18|12|8|8|2|0|\n",
    "\n",
    "And were asked to compute the mean and variance for each product so let's do the same with our newly acquired Python knowledge!\n",
    "\n",
    "**<font color=green><font size=5>&rarr;</font> Create two lists to store your data**"
   ]
  },
  {
   "cell_type": "code",
   "execution_count": null,
   "metadata": {
    "collapsed": true
   },
   "outputs": [],
   "source": []
  },
  {
   "cell_type": "markdown",
   "metadata": {},
   "source": [
    "**<font color=green><font size=5>&rarr;</font> Compute the mean for each product**"
   ]
  },
  {
   "cell_type": "code",
   "execution_count": null,
   "metadata": {},
   "outputs": [],
   "source": [
    "# Mean sunscreen"
   ]
  },
  {
   "cell_type": "code",
   "execution_count": null,
   "metadata": {},
   "outputs": [],
   "source": [
    "# Mean umbrellas"
   ]
  },
  {
   "cell_type": "markdown",
   "metadata": {},
   "source": [
    "**<font color=green><font size=5>&rarr;</font> Compute the sample variance $s^2$ for each product**"
   ]
  },
  {
   "cell_type": "code",
   "execution_count": 2,
   "metadata": {},
   "outputs": [],
   "source": [
    "# For loop to compute sunscreen variance\n"
   ]
  },
  {
   "cell_type": "code",
   "execution_count": 1,
   "metadata": {},
   "outputs": [],
   "source": [
    "# For loop to compute umbrella variance\n"
   ]
  }
 ],
 "metadata": {
  "kernelspec": {
   "display_name": "Python 3",
   "language": "python",
   "name": "python3"
  },
  "language_info": {
   "codemirror_mode": {
    "name": "ipython",
    "version": 3
   },
   "file_extension": ".py",
   "mimetype": "text/x-python",
   "name": "python",
   "nbconvert_exporter": "python",
   "pygments_lexer": "ipython3",
   "version": "3.7.5"
  }
 },
 "nbformat": 4,
 "nbformat_minor": 2
}
