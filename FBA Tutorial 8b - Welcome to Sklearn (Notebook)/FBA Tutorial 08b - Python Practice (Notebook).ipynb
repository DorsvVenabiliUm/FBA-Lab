{
 "cells": [
  {
   "cell_type": "markdown",
   "metadata": {
    "colab_type": "text",
    "id": "r6JP35t4Tmkj"
   },
   "source": [
    "\n",
    "# FBA Tutorial 7b - Python Revision + Sklearn\n",
    "\n",
    "The aim of this tutorial is to cover a number of important concepts we have learned so far in view of the upcoming test. You will be writing loops, functions, conditions as well as creating lists and dictionaries. \n",
    "\n",
    "After that we will focus on the use of libraries to ease our task, starting with Pandas to load and pre-process our data before moving to Sklearn to do our first machine learning task in Python, a linear regression!\n",
    "\n",
    "As in the previous tutorial, we will be using the **admissions.csv** file (available from the moodle page). This file describes people who are applying for a postgraduate degree at a US university, and indicates 3 relevant features about an applicant… as well as whether they got into to the masters or PhD course they were applying for when they were selected by hand (note that if we were doing a full analytics project, this would be our target class!):\n",
    "\n",
    "* The dataset has a binary output feature (i.e. dependent variable) called \"admit\". \n",
    "* There are three predictor variables: gre, gpa and ranking. \n",
    "* Variables gre (a exam result score) and gpa (the person’s grade point average) are continuous.\n",
    "* The variable ranking takes on the values 1 through 4. Institutions with a rank of 1 have the highest prestige, while those with a rank of 4 have the lowest. \n",
    "\n",
    "Let's get started, first by doing a lot of the grunt work ourselves!\n",
    "\n",
    "### A little tip for when you develop a new function"
   ]
  },
  {
   "cell_type": "code",
   "execution_count": 0,
   "metadata": {
    "colab": {},
    "colab_type": "code",
    "id": "BSnBErK5Tmkn",
    "outputId": "95ab3799-2a94-45ba-b3b6-2d0196c143c4"
   },
   "outputs": [
    {
     "name": "stdout",
     "output_type": "stream",
     "text": [
      "2\n",
      "-2\n",
      "10\n"
     ]
    }
   ],
   "source": [
    "# When you write a new function definition you can\n",
    "# add some function calls just after to check how \n",
    "# it behaves with some expected values\n",
    "def my_sum(a, b):\n",
    "    return a + b\n",
    "\n",
    "print(my_sum(0, 2))\n",
    "print(my_sum(-3, 1))\n",
    "print(my_sum(4, 6))"
   ]
  },
  {
   "cell_type": "markdown",
   "metadata": {
    "colab_type": "text",
    "id": "EfwRx21lTmk1"
   },
   "source": [
    "### Step A1 - Write a function to count the number of lines in a file\n",
    "\n",
    "You function will take a parameter **filename** containing the path of the file to open and read. It will return the number of lines in the file."
   ]
  },
  {
   "cell_type": "code",
   "execution_count": 0,
   "metadata": {
    "colab": {},
    "colab_type": "code",
    "id": "gfs3NsO5Tmk4",
    "outputId": "4dcf851f-6d3f-4a2f-edec-6f58db7b4dc3"
   },
   "outputs": [
    {
     "data": {
      "text/plain": [
       "401"
      ]
     },
     "execution_count": 83,
     "metadata": {
      "tags": []
     },
     "output_type": "execute_result"
    }
   ],
   "source": []
  },
  {
   "cell_type": "markdown",
   "metadata": {
    "colab_type": "text",
    "id": "MFudCtTSTmlB"
   },
   "source": [
    "### Step A2 - Loading the data manually\n",
    "\n",
    "Our goal is to write ourselves a data loader for the file **admissions.csv**. To do that, we are going to go, step by step. The first step is to write a function that can process one line of our file (e.g. *'0,380,3.61,3'*)  and transform it into a dictionary.\n",
    "\n",
    "Write a function **data_to_dict( )** with the following requirements:\n",
    "- Parameter: txt (type string)\n",
    "- Purpose : The function should create a new dictionary containing the keys **admit**, **gpa**, **gre** and **ranking**, and populated from the string passed as a parameter. You will need to manipulate the string to extract the different values. We also want to transform the admit value to True when it is equal to 1 and False when it is equal to 0 so that we have a boolean type. For the other fields, use the data types that you feel are the most appropriate.\n",
    "- Returns: The populated dictionary"
   ]
  },
  {
   "cell_type": "code",
   "execution_count": 0,
   "metadata": {
    "colab": {},
    "colab_type": "code",
    "id": "Rj7jLvXpTmlD",
    "outputId": "31f0c45e-8fb9-4273-fa6c-f4c50938f667"
   },
   "outputs": [
    {
     "name": "stdout",
     "output_type": "stream",
     "text": [
      "{'admit': False, 'gre': 380, 'gpa': 3.61, 'ranking': 3}\n",
      "{'admit': True, 'gre': 640, 'gpa': 3.19, 'ranking': 4}\n"
     ]
    }
   ],
   "source": [
    "print(data_to_dict('0,380,3.61,3')) # You should have: {'admit': False, 'gre': 380, 'gpa': 3.61, 'ranking': 3}\n",
    "print(data_to_dict('1,640,3.19,4')) # You should have: {'admit': True, 'gre': 640, 'gpa': 3.19, 'ranking': 4}"
   ]
  },
  {
   "cell_type": "markdown",
   "metadata": {
    "colab_type": "text",
    "id": "OKsjw_VQTmlL"
   },
   "source": [
    "### Step A3 - Collating our data\n",
    "\n",
    "We now have a function that can take a line of our **admissions.csv** file and return us a nicely populated dictionary. If we do that for all the lines, we can create a list containing all these dictionaries and have our data structured. Let's give it a go!\n",
    "\n",
    "***As always, check what the text file your are trying to load is looking like. It is extremly common for first few lines to have a different structure that you will need to accomodate for (or discard). (TIP: you can use array indexes or a counter for example to skip specific lines)***"
   ]
  },
  {
   "cell_type": "code",
   "execution_count": 0,
   "metadata": {
    "colab": {},
    "colab_type": "code",
    "id": "sn7YHQlcTmlN",
    "scrolled": true
   },
   "outputs": [],
   "source": []
  },
  {
   "cell_type": "markdown",
   "metadata": {
    "colab_type": "text",
    "id": "JnZ8qX__TmlS"
   },
   "source": [
    "### Step A4 - Computing some means\n",
    "\n",
    "You should now have a list containing 400 dictionaries. As our data is nicely structured, we can fairly easily compute the mean GRE and mean GPA. That's a good practice for the test!"
   ]
  },
  {
   "cell_type": "code",
   "execution_count": 0,
   "metadata": {
    "colab": {},
    "colab_type": "code",
    "id": "JcokvlZRTmlU",
    "outputId": "4dcc9f53-1628-442d-dcae-a27d4d88e119",
    "scrolled": true
   },
   "outputs": [
    {
     "name": "stdout",
     "output_type": "stream",
     "text": [
      "Mean GRE : 587.7\n",
      "Mean GPA : 3.3899000000000017\n"
     ]
    }
   ],
   "source": []
  },
  {
   "cell_type": "markdown",
   "metadata": {
    "colab_type": "text",
    "id": "2yNmUwKMTmle"
   },
   "source": [
    "# Using Pandas, Numpy and Sklearn this time!\n",
    "\n",
    "### Step B1 \n",
    "Using the **pandas** library and its **read_csv()** function, load the data of the file **admissions.csv** into a DataFrame."
   ]
  },
  {
   "cell_type": "code",
   "execution_count": 0,
   "metadata": {
    "colab": {},
    "colab_type": "code",
    "id": "n2D9cz3xTmlg"
   },
   "outputs": [],
   "source": []
  },
  {
   "cell_type": "markdown",
   "metadata": {
    "colab_type": "text",
    "id": "eTES0la0Tmlr"
   },
   "source": [
    "### Step B2\n",
    "\n",
    "This should become a good habit, each time you load new data, check that it has been loaded correctly using the **head()** method."
   ]
  },
  {
   "cell_type": "code",
   "execution_count": 0,
   "metadata": {
    "colab": {},
    "colab_type": "code",
    "id": "yAgRFIZ0Tmlt",
    "outputId": "8b65a3ca-4108-4f66-e95b-0773f8f29204"
   },
   "outputs": [
    {
     "data": {
      "text/html": [
       "<div>\n",
       "<style scoped>\n",
       "    .dataframe tbody tr th:only-of-type {\n",
       "        vertical-align: middle;\n",
       "    }\n",
       "\n",
       "    .dataframe tbody tr th {\n",
       "        vertical-align: top;\n",
       "    }\n",
       "\n",
       "    .dataframe thead th {\n",
       "        text-align: right;\n",
       "    }\n",
       "</style>\n",
       "<table border=\"1\" class=\"dataframe\">\n",
       "  <thead>\n",
       "    <tr style=\"text-align: right;\">\n",
       "      <th></th>\n",
       "      <th>admit</th>\n",
       "      <th>gre</th>\n",
       "      <th>gpa</th>\n",
       "      <th>ranking</th>\n",
       "    </tr>\n",
       "  </thead>\n",
       "  <tbody>\n",
       "    <tr>\n",
       "      <th>0</th>\n",
       "      <td>0</td>\n",
       "      <td>380</td>\n",
       "      <td>3.61</td>\n",
       "      <td>3</td>\n",
       "    </tr>\n",
       "    <tr>\n",
       "      <th>1</th>\n",
       "      <td>1</td>\n",
       "      <td>660</td>\n",
       "      <td>3.67</td>\n",
       "      <td>3</td>\n",
       "    </tr>\n",
       "    <tr>\n",
       "      <th>2</th>\n",
       "      <td>1</td>\n",
       "      <td>800</td>\n",
       "      <td>4.00</td>\n",
       "      <td>1</td>\n",
       "    </tr>\n",
       "    <tr>\n",
       "      <th>3</th>\n",
       "      <td>1</td>\n",
       "      <td>640</td>\n",
       "      <td>3.19</td>\n",
       "      <td>4</td>\n",
       "    </tr>\n",
       "    <tr>\n",
       "      <th>4</th>\n",
       "      <td>0</td>\n",
       "      <td>520</td>\n",
       "      <td>2.93</td>\n",
       "      <td>4</td>\n",
       "    </tr>\n",
       "  </tbody>\n",
       "</table>\n",
       "</div>"
      ],
      "text/plain": [
       "   admit  gre   gpa  ranking\n",
       "0      0  380  3.61        3\n",
       "1      1  660  3.67        3\n",
       "2      1  800  4.00        1\n",
       "3      1  640  3.19        4\n",
       "4      0  520  2.93        4"
      ]
     },
     "execution_count": 88,
     "metadata": {
      "tags": []
     },
     "output_type": "execute_result"
    }
   ],
   "source": []
  },
  {
   "cell_type": "markdown",
   "metadata": {
    "colab_type": "text",
    "id": "nSe-N-iDTml1"
   },
   "source": [
    "### Step B3\n",
    "\n",
    "Let's start by checking (using **Pandas** methods this time) that the mean GRE and GPA corresponds to what we have computed manually in the previous section!"
   ]
  },
  {
   "cell_type": "code",
   "execution_count": 0,
   "metadata": {
    "colab": {},
    "colab_type": "code",
    "id": "TfnG2NCqTml2",
    "outputId": "7569ded2-76cc-428d-96b4-fcbcb9fae214"
   },
   "outputs": [
    {
     "name": "stdout",
     "output_type": "stream",
     "text": [
      "587.7\n",
      "3.3899000000000017\n"
     ]
    }
   ],
   "source": []
  },
  {
   "cell_type": "markdown",
   "metadata": {
    "colab_type": "text",
    "id": "fC2re6ujTml8"
   },
   "source": [
    "### Step B4 - Updating a column\n",
    "\n",
    "For clarity we want to replace the values of the column admit to True if it is equal to 1 or False if it is equal to 0. For this, you will need to use the **loc( )** method from **Pandas**."
   ]
  },
  {
   "cell_type": "code",
   "execution_count": 0,
   "metadata": {
    "colab": {},
    "colab_type": "code",
    "id": "8XMBlSJmTml_"
   },
   "outputs": [],
   "source": []
  },
  {
   "cell_type": "code",
   "execution_count": 0,
   "metadata": {
    "colab": {},
    "colab_type": "code",
    "id": "MaMKvZLqTmmE",
    "outputId": "b23a1670-4a9d-4975-99d4-612be1168573",
    "scrolled": true
   },
   "outputs": [
    {
     "data": {
      "text/html": [
       "<div>\n",
       "<style scoped>\n",
       "    .dataframe tbody tr th:only-of-type {\n",
       "        vertical-align: middle;\n",
       "    }\n",
       "\n",
       "    .dataframe tbody tr th {\n",
       "        vertical-align: top;\n",
       "    }\n",
       "\n",
       "    .dataframe thead th {\n",
       "        text-align: right;\n",
       "    }\n",
       "</style>\n",
       "<table border=\"1\" class=\"dataframe\">\n",
       "  <thead>\n",
       "    <tr style=\"text-align: right;\">\n",
       "      <th></th>\n",
       "      <th>admit</th>\n",
       "      <th>gre</th>\n",
       "      <th>gpa</th>\n",
       "      <th>ranking</th>\n",
       "    </tr>\n",
       "  </thead>\n",
       "  <tbody>\n",
       "    <tr>\n",
       "      <th>0</th>\n",
       "      <td>False</td>\n",
       "      <td>380</td>\n",
       "      <td>3.61</td>\n",
       "      <td>3</td>\n",
       "    </tr>\n",
       "    <tr>\n",
       "      <th>1</th>\n",
       "      <td>True</td>\n",
       "      <td>660</td>\n",
       "      <td>3.67</td>\n",
       "      <td>3</td>\n",
       "    </tr>\n",
       "    <tr>\n",
       "      <th>2</th>\n",
       "      <td>True</td>\n",
       "      <td>800</td>\n",
       "      <td>4.00</td>\n",
       "      <td>1</td>\n",
       "    </tr>\n",
       "    <tr>\n",
       "      <th>3</th>\n",
       "      <td>True</td>\n",
       "      <td>640</td>\n",
       "      <td>3.19</td>\n",
       "      <td>4</td>\n",
       "    </tr>\n",
       "    <tr>\n",
       "      <th>4</th>\n",
       "      <td>False</td>\n",
       "      <td>520</td>\n",
       "      <td>2.93</td>\n",
       "      <td>4</td>\n",
       "    </tr>\n",
       "  </tbody>\n",
       "</table>\n",
       "</div>"
      ],
      "text/plain": [
       "   admit  gre   gpa  ranking\n",
       "0  False  380  3.61        3\n",
       "1   True  660  3.67        3\n",
       "2   True  800  4.00        1\n",
       "3   True  640  3.19        4\n",
       "4  False  520  2.93        4"
      ]
     },
     "execution_count": 91,
     "metadata": {
      "tags": []
     },
     "output_type": "execute_result"
    }
   ],
   "source": [
    "# It is always good to check your operation\n",
    "# had the expected output!\n",
    "df.head()"
   ]
  },
  {
   "cell_type": "markdown",
   "metadata": {
    "colab_type": "text",
    "id": "JwKeIhzzTmmM"
   },
   "source": [
    "### Step B5 - An overview of our data"
   ]
  },
  {
   "cell_type": "markdown",
   "metadata": {
    "colab_type": "text",
    "id": "HhLD1dWCTmmN"
   },
   "source": [
    "You probably remember from last week's tutorial, you can easily obtain a basic statistical summary of your data using the **describe( )** method."
   ]
  },
  {
   "cell_type": "code",
   "execution_count": 0,
   "metadata": {
    "colab": {},
    "colab_type": "code",
    "id": "btNv9PEDTmmP",
    "outputId": "38f2f0b6-95f4-4675-9881-dd885adf8277"
   },
   "outputs": [
    {
     "data": {
      "text/html": [
       "<div>\n",
       "<style scoped>\n",
       "    .dataframe tbody tr th:only-of-type {\n",
       "        vertical-align: middle;\n",
       "    }\n",
       "\n",
       "    .dataframe tbody tr th {\n",
       "        vertical-align: top;\n",
       "    }\n",
       "\n",
       "    .dataframe thead th {\n",
       "        text-align: right;\n",
       "    }\n",
       "</style>\n",
       "<table border=\"1\" class=\"dataframe\">\n",
       "  <thead>\n",
       "    <tr style=\"text-align: right;\">\n",
       "      <th></th>\n",
       "      <th>gre</th>\n",
       "      <th>gpa</th>\n",
       "      <th>ranking</th>\n",
       "    </tr>\n",
       "  </thead>\n",
       "  <tbody>\n",
       "    <tr>\n",
       "      <th>count</th>\n",
       "      <td>400.000000</td>\n",
       "      <td>400.000000</td>\n",
       "      <td>400.00000</td>\n",
       "    </tr>\n",
       "    <tr>\n",
       "      <th>mean</th>\n",
       "      <td>587.700000</td>\n",
       "      <td>3.389900</td>\n",
       "      <td>2.48500</td>\n",
       "    </tr>\n",
       "    <tr>\n",
       "      <th>std</th>\n",
       "      <td>115.516536</td>\n",
       "      <td>0.380567</td>\n",
       "      <td>0.94446</td>\n",
       "    </tr>\n",
       "    <tr>\n",
       "      <th>min</th>\n",
       "      <td>220.000000</td>\n",
       "      <td>2.260000</td>\n",
       "      <td>1.00000</td>\n",
       "    </tr>\n",
       "    <tr>\n",
       "      <th>25%</th>\n",
       "      <td>520.000000</td>\n",
       "      <td>3.130000</td>\n",
       "      <td>2.00000</td>\n",
       "    </tr>\n",
       "    <tr>\n",
       "      <th>50%</th>\n",
       "      <td>580.000000</td>\n",
       "      <td>3.395000</td>\n",
       "      <td>2.00000</td>\n",
       "    </tr>\n",
       "    <tr>\n",
       "      <th>75%</th>\n",
       "      <td>660.000000</td>\n",
       "      <td>3.670000</td>\n",
       "      <td>3.00000</td>\n",
       "    </tr>\n",
       "    <tr>\n",
       "      <th>max</th>\n",
       "      <td>800.000000</td>\n",
       "      <td>4.000000</td>\n",
       "      <td>4.00000</td>\n",
       "    </tr>\n",
       "  </tbody>\n",
       "</table>\n",
       "</div>"
      ],
      "text/plain": [
       "              gre         gpa    ranking\n",
       "count  400.000000  400.000000  400.00000\n",
       "mean   587.700000    3.389900    2.48500\n",
       "std    115.516536    0.380567    0.94446\n",
       "min    220.000000    2.260000    1.00000\n",
       "25%    520.000000    3.130000    2.00000\n",
       "50%    580.000000    3.395000    2.00000\n",
       "75%    660.000000    3.670000    3.00000\n",
       "max    800.000000    4.000000    4.00000"
      ]
     },
     "execution_count": 106,
     "metadata": {
      "tags": []
     },
     "output_type": "execute_result"
    }
   ],
   "source": []
  },
  {
   "cell_type": "markdown",
   "metadata": {
    "colab_type": "text",
    "id": "khBZtfyGTmmU"
   },
   "source": [
    "### Step B6 - An overview of a slice of your data\n",
    "\n",
    "If we are interested to find the effect of **ranking** on the other variables, it can be interesting to obtain a statistical summary on a subset of our data. In our case, we can use the method **describe()** on the data subset for a specific ranking (e.g. what is the statistical summary when the ranking is 1? and 4? any differences?) "
   ]
  },
  {
   "cell_type": "code",
   "execution_count": 0,
   "metadata": {
    "colab": {},
    "colab_type": "code",
    "id": "-M6ELs2FTmmW",
    "outputId": "632d03ea-3b20-4193-c1af-445e1d25a336"
   },
   "outputs": [
    {
     "data": {
      "text/html": [
       "<div>\n",
       "<style scoped>\n",
       "    .dataframe tbody tr th:only-of-type {\n",
       "        vertical-align: middle;\n",
       "    }\n",
       "\n",
       "    .dataframe tbody tr th {\n",
       "        vertical-align: top;\n",
       "    }\n",
       "\n",
       "    .dataframe thead th {\n",
       "        text-align: right;\n",
       "    }\n",
       "</style>\n",
       "<table border=\"1\" class=\"dataframe\">\n",
       "  <thead>\n",
       "    <tr style=\"text-align: right;\">\n",
       "      <th></th>\n",
       "      <th>gre</th>\n",
       "      <th>gpa</th>\n",
       "      <th>ranking</th>\n",
       "    </tr>\n",
       "  </thead>\n",
       "  <tbody>\n",
       "    <tr>\n",
       "      <th>count</th>\n",
       "      <td>61.000000</td>\n",
       "      <td>61.000000</td>\n",
       "      <td>61.0</td>\n",
       "    </tr>\n",
       "    <tr>\n",
       "      <th>mean</th>\n",
       "      <td>611.803279</td>\n",
       "      <td>3.453115</td>\n",
       "      <td>1.0</td>\n",
       "    </tr>\n",
       "    <tr>\n",
       "      <th>std</th>\n",
       "      <td>120.242924</td>\n",
       "      <td>0.390698</td>\n",
       "      <td>0.0</td>\n",
       "    </tr>\n",
       "    <tr>\n",
       "      <th>min</th>\n",
       "      <td>340.000000</td>\n",
       "      <td>2.420000</td>\n",
       "      <td>1.0</td>\n",
       "    </tr>\n",
       "    <tr>\n",
       "      <th>25%</th>\n",
       "      <td>540.000000</td>\n",
       "      <td>3.200000</td>\n",
       "      <td>1.0</td>\n",
       "    </tr>\n",
       "    <tr>\n",
       "      <th>50%</th>\n",
       "      <td>600.000000</td>\n",
       "      <td>3.530000</td>\n",
       "      <td>1.0</td>\n",
       "    </tr>\n",
       "    <tr>\n",
       "      <th>75%</th>\n",
       "      <td>700.000000</td>\n",
       "      <td>3.730000</td>\n",
       "      <td>1.0</td>\n",
       "    </tr>\n",
       "    <tr>\n",
       "      <th>max</th>\n",
       "      <td>800.000000</td>\n",
       "      <td>4.000000</td>\n",
       "      <td>1.0</td>\n",
       "    </tr>\n",
       "  </tbody>\n",
       "</table>\n",
       "</div>"
      ],
      "text/plain": [
       "              gre        gpa  ranking\n",
       "count   61.000000  61.000000     61.0\n",
       "mean   611.803279   3.453115      1.0\n",
       "std    120.242924   0.390698      0.0\n",
       "min    340.000000   2.420000      1.0\n",
       "25%    540.000000   3.200000      1.0\n",
       "50%    600.000000   3.530000      1.0\n",
       "75%    700.000000   3.730000      1.0\n",
       "max    800.000000   4.000000      1.0"
      ]
     },
     "execution_count": 93,
     "metadata": {
      "tags": []
     },
     "output_type": "execute_result"
    }
   ],
   "source": []
  },
  {
   "cell_type": "markdown",
   "metadata": {
    "colab_type": "text",
    "id": "MBaMwvJ1Tmmi"
   },
   "source": [
    "### Step B7 - Number of student applications per ranking category\n",
    "\n",
    "Remember that Pandas has a function ready made for you to do that, it was part of last week's lecture!"
   ]
  },
  {
   "cell_type": "code",
   "execution_count": 0,
   "metadata": {
    "colab": {},
    "colab_type": "code",
    "id": "5Put-OEdTmmm",
    "outputId": "5bf9ecd4-44f0-4ba3-fb4e-9a48c7d42e8b"
   },
   "outputs": [
    {
     "data": {
      "text/plain": [
       "2    151\n",
       "3    121\n",
       "4     67\n",
       "1     61\n",
       "Name: ranking, dtype: int64"
      ]
     },
     "execution_count": 94,
     "metadata": {
      "tags": []
     },
     "output_type": "execute_result"
    }
   ],
   "source": []
  },
  {
   "cell_type": "markdown",
   "metadata": {
    "colab_type": "text",
    "id": "mENIp_yVTmmv"
   },
   "source": [
    "### Step B8 - Admission rate (percentage) per ranking category\n",
    "\n",
    "This time we want to compute the admission rate (in percentage) for each ranking category (i.e. 1, 2, 3 and 4). We just want to print these percentages to the screen."
   ]
  },
  {
   "cell_type": "code",
   "execution_count": 0,
   "metadata": {
    "colab": {},
    "colab_type": "code",
    "id": "xSTXHwMVTmmw",
    "outputId": "33d5bcc1-c79a-4780-b7f4-a15090788356"
   },
   "outputs": [
    {
     "name": "stdout",
     "output_type": "stream",
     "text": [
      "In schools of rank 3 the admission rate is 0.23140495867768596\n",
      "In schools of rank 1 the admission rate is 0.5409836065573771\n",
      "In schools of rank 4 the admission rate is 0.1791044776119403\n",
      "In schools of rank 2 the admission rate is 0.3576158940397351\n"
     ]
    }
   ],
   "source": []
  },
  {
   "cell_type": "markdown",
   "metadata": {
    "colab_type": "text",
    "id": "IT_rtV_2Tmm7"
   },
   "source": [
    "### Step B9 - Pearson Correlation\n",
    "\n",
    "Ok let’s now start exploring the data with a model. Pearson Correlation is the key factor in a linear regression - the further it is from zero the stronger the linear relationship (even though we all know now, that linear relationships certainly don’t tell the whole story). Let’s use numpy to find that correlation:"
   ]
  },
  {
   "cell_type": "code",
   "execution_count": 0,
   "metadata": {
    "colab": {},
    "colab_type": "code",
    "id": "IHTUlaLOTmm9",
    "outputId": "86653983-64e4-4296-d068-a5b40238ab83"
   },
   "outputs": [
    {
     "name": "stdout",
     "output_type": "stream",
     "text": [
      "[[1.         0.38426588]\n",
      " [0.38426588 1.        ]]\n"
     ]
    }
   ],
   "source": [
    "import numpy as np\n",
    "\n",
    "r = np.corrcoef(df.gpa, df.gre)\n",
    "print(r)"
   ]
  },
  {
   "cell_type": "markdown",
   "metadata": {
    "colab_type": "text",
    "id": "5xGll9BSTmnB"
   },
   "source": [
    "As you can see, you get a matrix output (you can check the type using **print(type(r))** if you want). The only score that matters is the first line, second column (or second line, first column which is the same)  - that’s the correlation between the variables we care about.. Given that this number is part of a matrix (ndarray), try to extract it using **Numpy** indexes."
   ]
  },
  {
   "cell_type": "code",
   "execution_count": 0,
   "metadata": {
    "colab": {},
    "colab_type": "code",
    "id": "BEcEfENbTmnC",
    "outputId": "b208447c-270b-4469-d79d-f1a841c44d4f"
   },
   "outputs": [
    {
     "name": "stdout",
     "output_type": "stream",
     "text": [
      "<class 'numpy.ndarray'>\n",
      "0.38426587802084894\n"
     ]
    }
   ],
   "source": []
  },
  {
   "cell_type": "markdown",
   "metadata": {
    "colab_type": "text",
    "id": "0rbyszfITmnH"
   },
   "source": [
    "More than numbers, data analysts need to understand what they mean. You have now obtained a number for the Pearson Correlation of our two variables. What do you think of this correlation? Is it correlation strong, low or medium?"
   ]
  },
  {
   "cell_type": "markdown",
   "metadata": {
    "colab_type": "text",
    "id": "2AL5_01mTmnH"
   },
   "source": [
    "### Step B10 - Importing Sklearn\n",
    "\n",
    "This is still just a descriptive correlation score and won’t actually help us predict anything. To actually try and predict someone’s GRE exam score from their GPA average we need a linear model. You have seen that it can easily be done using **Orange** with a graphical interface. It is almost as easy in Python thanks to the **sklearn** library, so let's give it a go!\n",
    "\n",
    "The first step is to import the library using the **from** *module* **import** *submodule* syntax. From the library **sklearn** we want to import the submodule **linear_model**, try to write that import statement."
   ]
  },
  {
   "cell_type": "code",
   "execution_count": 0,
   "metadata": {
    "colab": {},
    "colab_type": "code",
    "id": "j1g3_XkDTmnJ"
   },
   "outputs": [],
   "source": []
  },
  {
   "cell_type": "markdown",
   "metadata": {
    "colab_type": "text",
    "id": "I60ecorfTmnO"
   },
   "source": [
    "### Step B11 - Create our features\n",
    "\n",
    "It’s a tradition from the olden days of yore, when people still used punchcards to program computers, that when we create predictive models we always call our input features “X” and our output features “Y”. So let’s just quickly do that, we have a DataFrame containing our data from which we want to extract **gpa** (our input feature) and **gre** (our ouput feature) and store them respectively in variables **X** and **Y**.\n"
   ]
  },
  {
   "cell_type": "code",
   "execution_count": 0,
   "metadata": {
    "colab": {},
    "colab_type": "code",
    "id": "CQcrw0huTmnR"
   },
   "outputs": [],
   "source": [
    "X = df[['gpa']]\n",
    "Y = df[['gre']]"
   ]
  },
  {
   "cell_type": "markdown",
   "metadata": {
    "colab_type": "text",
    "id": "E--mehJ1TmnT"
   },
   "source": [
    "Note that this time we don’t just use data.gpa to extract the field’s data. This is because we want it in the form of a matrix (and not a vector, which is what data.gpa would give us). If you want to see the difference try following code:"
   ]
  },
  {
   "cell_type": "code",
   "execution_count": 0,
   "metadata": {
    "colab": {},
    "colab_type": "code",
    "id": "zdb1YfK7TmnT",
    "outputId": "9c4af699-342d-4d62-e384-8f3f53daea99"
   },
   "outputs": [
    {
     "name": "stdout",
     "output_type": "stream",
     "text": [
      "(400,)\n",
      "(400, 1)\n"
     ]
    }
   ],
   "source": [
    "print(df.gpa.shape)\n",
    "print(df[['gpa']].shape)"
   ]
  },
  {
   "cell_type": "markdown",
   "metadata": {
    "colab_type": "text",
    "id": "Hrshuq4XTmnY"
   },
   "source": [
    "When you run this you will see that data.gpa only has one dimension (it is a vector), whereas our new version has two dimensions (albeit being a matrix with only one row in it!). The difference is subtle but just trust me for now - this means it will be in the perfect format ready to feed to sklearn as it uses matrices."
   ]
  },
  {
   "cell_type": "markdown",
   "metadata": {
    "colab_type": "text",
    "id": "GqXwxwURTmna"
   },
   "source": [
    "### Step B12 - Linear Regression\n",
    "\n",
    "Create a linear regression model, not by dropping on a widget like Orange... but by typing the following couple of lines:"
   ]
  },
  {
   "cell_type": "code",
   "execution_count": 0,
   "metadata": {
    "colab": {},
    "colab_type": "code",
    "id": "Av-nJa91Tmnb",
    "outputId": "583582c2-8662-49fa-aaa9-71a38acbce3f"
   },
   "outputs": [
    {
     "name": "stdout",
     "output_type": "stream",
     "text": [
      "[[116.63935631]] [192.30424605]\n"
     ]
    }
   ],
   "source": [
    "model = linear_model.LinearRegression()\n",
    "model.fit(X,Y)\n",
    "print(model.coef_, model.intercept_)"
   ]
  },
  {
   "cell_type": "markdown",
   "metadata": {
    "colab_type": "text",
    "id": "qw6qBzHBTmnf"
   },
   "source": [
    "Et voila.  Job done. The first line creates an ‘empty’ model ready for us to train. The second line does the training by finding the correct line that ‘fits’ the data. The final line prints out the $m$ and the $c$ in the equation $y = mx+c$. Job done."
   ]
  },
  {
   "cell_type": "markdown",
   "metadata": {
    "colab_type": "text",
    "id": "q5hwZkWxTmnf"
   },
   "source": [
    "##### Quick challenge: \n",
    "\n",
    "Any thoughts on what the connection between the gradient coefficient (coef_) and correlation (r) are? DON’T CHEAT ;)\n",
    "##### Answer: \n",
    "\n",
    "If you standardize your data the correlation is the gradient coefficient. The closer that line is to 1 (or -1) the stronger the link!\n",
    "\n",
    "Just to prove the above (and to show you how to standardize your data - which is vital for distance measure based predictors) add the following lines before you created your linear model:"
   ]
  },
  {
   "cell_type": "code",
   "execution_count": 0,
   "metadata": {
    "colab": {},
    "colab_type": "code",
    "id": "pKu7SJ66Tmnh"
   },
   "outputs": [],
   "source": [
    "from sklearn import preprocessing\n",
    "X_scaled = preprocessing.scale(X)\n",
    "Y_scaled = preprocessing.scale(Y.astype(float))"
   ]
  },
  {
   "cell_type": "markdown",
   "metadata": {
    "colab_type": "text",
    "id": "kcEttrlHTmnp"
   },
   "source": [
    "Sklearn gives us a special set of functions to do this sort of thing. By default scale() will standardize your data (i.e. mean centre the data and divide through by its variance), making all data “measure-less”. This means we can use it more readily in anything that compares distances, and all the datapoints are now comparable on any feature…. whatever the scale it originally used. \n",
    "\n",
    "**Re-run your LinearRegression fitting using X_scaled and Y_scaled this time, and confirm that the correlation you calculated via numpy is the same as the linear regression gradient coefficient!**\n"
   ]
  },
  {
   "cell_type": "code",
   "execution_count": 0,
   "metadata": {
    "colab": {},
    "colab_type": "code",
    "id": "jA4buqEZTmnq",
    "outputId": "93d4cb0d-943b-4472-fe1c-d2c94b7bee1d"
   },
   "outputs": [
    {
     "name": "stdout",
     "output_type": "stream",
     "text": [
      "[[0.38426588]] [-4.92354439e-16]\n"
     ]
    }
   ],
   "source": []
  },
  {
   "cell_type": "markdown",
   "metadata": {
    "colab_type": "text",
    "id": "VDNSDmZiTmnv"
   },
   "source": [
    "### Bonus Step - Want to practice your lists a bit more?\n",
    "\n",
    "Try to compute the median value of GPA ***without*** using the **median()** method of **Pandas or Numpy**."
   ]
  },
  {
   "cell_type": "code",
   "execution_count": 0,
   "metadata": {
    "colab": {},
    "colab_type": "code",
    "id": "u1S5guWLTmnw",
    "outputId": "6229ba3a-646f-489e-8f55-2d8d4bba03f7"
   },
   "outputs": [
    {
     "name": "stdout",
     "output_type": "stream",
     "text": [
      "The median GPA is 3.31\n",
      "The median GRE is 800\n"
     ]
    }
   ],
   "source": []
  },
  {
   "cell_type": "code",
   "execution_count": 0,
   "metadata": {
    "colab": {},
    "colab_type": "code",
    "id": "1G5IojKfTmnz"
   },
   "outputs": [],
   "source": []
  },
  {
   "cell_type": "code",
   "execution_count": 0,
   "metadata": {
    "colab": {},
    "colab_type": "code",
    "id": "3h4gZmhFTmn2"
   },
   "outputs": [],
   "source": []
  }
 ],
 "metadata": {
  "colab": {
   "collapsed_sections": [],
   "name": "FBA Tutorial 07b - Python Practice (Notebook).ipynb",
   "provenance": [],
   "version": "0.3.2"
  },
  "kernelspec": {
   "display_name": "Python 3",
   "language": "python",
   "name": "python3"
  },
  "language_info": {
   "codemirror_mode": {
    "name": "ipython",
    "version": 3
   },
   "file_extension": ".py",
   "mimetype": "text/x-python",
   "name": "python",
   "nbconvert_exporter": "python",
   "pygments_lexer": "ipython3",
   "version": "3.7.1"
  }
 },
 "nbformat": 4,
 "nbformat_minor": 1
}
