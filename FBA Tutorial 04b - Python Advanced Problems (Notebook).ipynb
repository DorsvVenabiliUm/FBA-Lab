{
 "cells": [
  {
   "cell_type": "markdown",
   "id": "bebaeec2",
   "metadata": {},
   "source": [
    "### The Karaca's Encryption Algorithm\n",
    "Make a function that encrypts a given input with these steps:\n",
    "\n",
    "Input: \"apple\"\n",
    "\n",
    "##### Step 1: Reverse the input: \"elppa\"\n",
    "\n",
    "##### Step 2: Replace all vowels using the following chart:\n",
    "\n",
    "a => 0\n",
    "e => 1\n",
    "i => 2\n",
    "o => 2\n",
    "u => 3\n",
    "\n",
    "\"1lpp0\"\n",
    "\n",
    "##### Step 3: Add \"aca\" to the end of the word: \"1lpp0aca\"\n",
    "\n",
    "Output: \"1lpp0aca\"\n",
    "\n",
    "##### Examples\n",
    "encrypt(\"banana\") ➞ \"0n0n0baca\"\n",
    "\n",
    "encrypt(\"karaca\") ➞ \"0c0r0kaca\"\n",
    "\n",
    "encrypt(\"burak\") ➞ \"k0r3baca\"\n",
    "\n",
    "encrypt(\"alpaca\") ➞ \"0c0pl0aca\"\n",
    "\n",
    "Notes:\n",
    "\n",
    "All inputs are strings, no uppercases and all output must be strings."
   ]
  },
  {
   "cell_type": "code",
   "execution_count": 1,
   "id": "a1ae9db4",
   "metadata": {},
   "outputs": [],
   "source": [
    "\n"
   ]
  },
  {
   "cell_type": "code",
   "execution_count": 2,
   "id": "b0e27f46",
   "metadata": {},
   "outputs": [
    {
     "data": {
      "text/plain": [
       "'0n0n0baca'"
      ]
     },
     "execution_count": 2,
     "metadata": {},
     "output_type": "execute_result"
    }
   ],
   "source": [
    "encrypt(\"banana\")"
   ]
  },
  {
   "cell_type": "markdown",
   "id": "5ad55266",
   "metadata": {},
   "source": [
    "### Combined Consecutive Sequence\n",
    "Write a function that returns True if two arrays, when combined, form a consecutive sequence. A consecutive sequence is a sequence without any gaps in the integers, e.g. 1, 2, 3, 4, 5 is a consecutive sequence, but 1, 2, 4, 5 is not.\n",
    "\n",
    "#### Examples\n",
    "consecutive_combo([7, 4, 5, 1], [2, 3, 6]) ➞ True\n",
    "\n",
    "consecutive_combo([1, 4, 6, 5], [2, 7, 8, 9]) ➞ False\n",
    "\n",
    "consecutive_combo([1, 4, 5, 6], [2, 3, 7, 8, 10]) ➞ False\n",
    "\n",
    "consecutive_combo([44, 46], [45]) ➞ True\n",
    "\n",
    "Notes\n",
    "\n",
    "The input lists will have unique values.\n",
    "\n",
    "\n",
    "The input lists can be in any order."
   ]
  },
  {
   "cell_type": "code",
   "execution_count": 3,
   "id": "157bd5b3",
   "metadata": {},
   "outputs": [],
   "source": []
  },
  {
   "cell_type": "code",
   "execution_count": 4,
   "id": "6d59c2dd",
   "metadata": {},
   "outputs": [
    {
     "data": {
      "text/plain": [
       "True"
      ]
     },
     "execution_count": 4,
     "metadata": {},
     "output_type": "execute_result"
    }
   ],
   "source": [
    "consecutive_combo([7, 4, 5, 1], [2, 3, 6])"
   ]
  },
  {
   "cell_type": "markdown",
   "id": "aaa21fcd",
   "metadata": {},
   "source": [
    "### C\\*ns\\*r\\*d Str\\*ngs\n",
    "Someone has attempted to censor my strings by replacing every vowel with a \\*, l\\*k\\* th\\*s. Luckily, I've been able to find the vowels that were removed.\n",
    "\n",
    "Given a censored string and a string of the censored vowels, return the original uncensored string.\n",
    "\n",
    "##### Example\n",
    "uncensor(\"Wh\\*r\\* d\\*d my v\\*w\\*ls g\\*?\", \"eeioeo\") ➞ \"Where did my vowels go?\"\n",
    "\n",
    "uncensor(\"abcd\", \"\") ➞ \"abcd\"\n",
    "\n",
    "uncensor(\"\\*PP\\*RC\\*S*\", \"UEAE\") ➞ \"UPPERCASE\"\n",
    "\n",
    "Notes\n",
    "\n",
    "The vowels are given in the correct order.\n",
    "\n",
    "The number of vowels will match the number of \\* characters in the censored string."
   ]
  },
  {
   "cell_type": "code",
   "execution_count": 5,
   "id": "8588113f",
   "metadata": {},
   "outputs": [],
   "source": [
    "\n"
   ]
  },
  {
   "cell_type": "code",
   "execution_count": 8,
   "id": "268b7b9b",
   "metadata": {},
   "outputs": [
    {
     "data": {
      "text/plain": [
       "'Where did my vowels go?'"
      ]
     },
     "execution_count": 8,
     "metadata": {},
     "output_type": "execute_result"
    }
   ],
   "source": [
    "uncensor(\"Wh*r* d*d my v*w*ls g*?\", \"eeioeo\")"
   ]
  },
  {
   "cell_type": "markdown",
   "id": "afb92393",
   "metadata": {},
   "source": [
    "### Pluralize!\n",
    "Given a list of words in the singular form, return a set of those words in the plural form if they appear more than once in the list.\n",
    "\n",
    "##### Examples\n",
    "pluralize([\"cow\", \"pig\", \"cow\", \"cow\"]) ➞ { \"cows\", \"pig\" }\n",
    "\n",
    "pluralize([\"table\", \"table\", \"table\"]) ➞ { \"tables\" }\n",
    "\n",
    "pluralize([\"chair\", \"pencil\", \"arm\"]) ➞ { \"chair\", \"pencil\", \"arm\" }\n",
    "\n",
    "Notes\n",
    "\n",
    "This is an oversimplification of the English language so no edge cases will appear.\n",
    "\n",
    "\n",
    "Only focus on whether or not to add an s to the ends of words.\n",
    "\n",
    "\n",
    "All tests will be valid."
   ]
  },
  {
   "cell_type": "code",
   "execution_count": 9,
   "id": "b5050400",
   "metadata": {},
   "outputs": [],
   "source": [
    "\n"
   ]
  },
  {
   "cell_type": "code",
   "execution_count": 10,
   "id": "f98eb16b",
   "metadata": {},
   "outputs": [
    {
     "data": {
      "text/plain": [
       "{'cows', 'pig'}"
      ]
     },
     "execution_count": 10,
     "metadata": {},
     "output_type": "execute_result"
    }
   ],
   "source": [
    "pluralize([\"cow\", \"pig\", \"cow\", \"cow\"])"
   ]
  },
  {
   "cell_type": "markdown",
   "id": "c45948e1",
   "metadata": {},
   "source": [
    "### Encoded String Parse\n",
    "Create a function which takes in an encoded string and returns a dictionary according to the following example:\n",
    "\n",
    "##### Examples\n",
    "\n",
    "parse_code(\"John000Doe000123\") ➞ {\n",
    "  \"first_name\": \"John\",\n",
    "  \"last_name\": \"Doe\",\n",
    "  \"id\": \"123\"\n",
    "}\n",
    "\n",
    "parse_code(\"michael0smith004331\") ➞ {\n",
    "  \"first_name\": \"michael\",\n",
    "  \"last_name\": \"smith\",\n",
    "  \"id\": \"4331\"\n",
    "}\n",
    "\n",
    "parse_code(\"Thomas00LEE0000043\") ➞ {\n",
    "  \"first_name\": \"Thomas\",\n",
    "  \"last_name\": \"LEE\",\n",
    "  \"id\": \"43\"\n",
    "}\n",
    "\n",
    "Notes\n",
    "\n",
    "\n",
    "The string will always be in the same format: first name, last name and id with zeros between them.\n",
    "\n",
    "id numbers will not contain any zeros."
   ]
  },
  {
   "cell_type": "code",
   "execution_count": 11,
   "id": "5bd5895b",
   "metadata": {},
   "outputs": [],
   "source": [
    "def parse_code(txt):\n",
    "    n, s, i = [x for x in txt.split('0') if len(x)]\n",
    "    return {'first_name': n, 'last_name': s, 'id': i}"
   ]
  },
  {
   "cell_type": "code",
   "execution_count": 12,
   "id": "f4c53c65",
   "metadata": {},
   "outputs": [
    {
     "data": {
      "text/plain": [
       "{'first_name': 'John', 'last_name': 'Doe', 'id': '123'}"
      ]
     },
     "execution_count": 12,
     "metadata": {},
     "output_type": "execute_result"
    }
   ],
   "source": [
    "parse_code(\"John000Doe000123\")"
   ]
  },
  {
   "cell_type": "markdown",
   "id": "eb4e0ef3",
   "metadata": {},
   "source": [
    "### Loves Me, Loves Me Not...\n",
    "\"Loves me, loves me not\" is a traditional game in which a person plucks off all the petals of a flower one by one, saying the phrase \"Loves me\" and \"Loves me not\" when determining whether the one that they love, loves them back.\n",
    "\n",
    "Given a number of petals, return a string which repeats the phrases \"Loves me\" and \"Loves me not\" for every alternating petal, and return the last phrase in all caps. Remember to put a comma and space between phrases.\n",
    "\n",
    "##### Examples\n",
    "loves_me(3) ➞ \"Loves me, Loves me not, LOVES ME\"\n",
    "\n",
    "loves_me(6) ➞ \"Loves me, Loves me not, Loves me, Loves me not, Loves me, LOVES ME NOT\"\n",
    "\n",
    "loves_me(1) ➞ \"LOVES ME\"\n",
    "\n",
    "Notes </br>\n",
    "Remember to return a string.</br>\n",
    "The first phrase is always \"Loves me\"."
   ]
  },
  {
   "cell_type": "code",
   "execution_count": 15,
   "id": "12f80ceb",
   "metadata": {},
   "outputs": [],
   "source": [
    "\n"
   ]
  },
  {
   "cell_type": "code",
   "execution_count": 16,
   "id": "52e7c056",
   "metadata": {},
   "outputs": [
    {
     "data": {
      "text/plain": [
       "'Loves me, Loves me not, Loves me, Loves me not, Loves me, LOVES ME NOT'"
      ]
     },
     "execution_count": 16,
     "metadata": {},
     "output_type": "execute_result"
    }
   ],
   "source": [
    "loves_me(6)"
   ]
  },
  {
   "cell_type": "code",
   "execution_count": null,
   "id": "cf79b5cd",
   "metadata": {},
   "outputs": [],
   "source": []
  }
 ],
 "metadata": {
  "kernelspec": {
   "display_name": "Python 3 (ipykernel)",
   "language": "python",
   "name": "python3"
  },
  "language_info": {
   "codemirror_mode": {
    "name": "ipython",
    "version": 3
   },
   "file_extension": ".py",
   "mimetype": "text/x-python",
   "name": "python",
   "nbconvert_exporter": "python",
   "pygments_lexer": "ipython3",
   "version": "3.9.12"
  }
 },
 "nbformat": 4,
 "nbformat_minor": 5
}
