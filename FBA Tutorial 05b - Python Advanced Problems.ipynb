{
 "cells": [
  {
   "cell_type": "markdown",
   "id": "acknowledged-siemens",
   "metadata": {},
   "source": [
    "## Disarium Number\n",
    "A number is said to be Disarium if the sum of its digits raised to their respective positions is the number itself.\n",
    "\n",
    "Create a function that determines whether a number is a Disarium or not.\n",
    "\n",
    "### Examples\n",
    "\n",
    "is_disarium(75) ➞ False\n",
    "\n",
    " 7^1 + 5^2 = 7 + 25 = 32\n",
    "\n",
    "is_disarium(135) ➞ True\n",
    "\n",
    " 1^1 + 3^2 + 5^3 = 1 + 9 + 125 = 135\n",
    "\n",
    "is_disarium(544) ➞ False\n",
    "\n",
    "is_disarium(518) ➞ True\n",
    "\n",
    "is_disarium(466) ➞ False\n",
    "\n",
    "is_disarium(8) ➞ True"
   ]
  },
  {
   "cell_type": "code",
   "execution_count": 2,
   "id": "extraordinary-retro",
   "metadata": {},
   "outputs": [],
   "source": [
    "#Your solution"
   ]
  },
  {
   "cell_type": "code",
   "execution_count": null,
   "id": "authorized-radio",
   "metadata": {},
   "outputs": [],
   "source": []
  },
  {
   "attachments": {
    "image.png": {
     "image/png": "[encoded data removed]"
    }
   },
   "cell_type": "markdown",
   "id": "trained-regulation",
   "metadata": {},
   "source": [
    "## Pentagonal Number\n",
    "\n",
    "Write a function that takes a positive integer num and calculates how many dots exist in a pentagonal shape around the center dot on the Nth iteration.\n",
    "\n",
    "In the image below you can see the first iteration is only a single dot. On the second, there are 6 dots. On the third, there are 16 dots, and on the fourth there are 31 dots.\n",
    "\n",
    "![image.png](attachment:image.png)\n",
    "\n",
    "Return the number of dots that exist in the whole pentagon on the Nth iteration.\n",
    "\n",
    "Examples\n",
    "pentagonal(1) ➞ 1\n",
    "\n",
    "pentagonal(2) ➞ 6\n",
    "\n",
    "pentagonal(3) ➞ 16\n",
    "\n",
    "pentagonal(8) ➞ 141"
   ]
  },
  {
   "cell_type": "code",
   "execution_count": 7,
   "id": "handed-astrology",
   "metadata": {},
   "outputs": [],
   "source": [
    "#Your solution\n"
   ]
  },
  {
   "cell_type": "markdown",
   "id": "ignored-century",
   "metadata": {},
   "source": [
    "## 3n + 1 Problem (Collatz Conjecture)\n",
    "\n",
    "A Collatz sequence is generated by repeatedly applying the following rules to an integer and then to each resulting integer in turn:\n",
    "\n",
    "If even: divide by 2.\n",
    "If odd: multiply by 3, then add 1.\n",
    "The Collatz algorithm has been tested and found to always reach 1 for all positive integers.\n",
    "\n",
    "Create a function that, when given two positive integers a b, returns the string \"a\" if integer a took fewer steps to reach 1 than b when passed through the Collatz sequence, or \"b\" if integer b took fewer steps to reach 1 than a.\n",
    "\n",
    "### Examples\n",
    "\n",
    "collatz(10, 15) ➞ \"a\"\n",
    "\n",
    " Because 10.0 - 5.0 - 16.0 - 8.0 - 4.0 - 2.0 - 1.0: 6 steps\n",
    " \n",
    " 15.0 - 46.0 - 23.0 - 70.0 - 35.0 - 106.0 - 53.0 - 160.0 - 80.0 - 40.0 - 20.0 - 10.0 - 5.0 - 16.0 - 8.0 - 4.0 - 2.0 - 1.0: 17 steps\n",
    "\n",
    "collatz(13, 16) ➞ \"b\"\n",
    "\n",
    "collatz(53782, 72534) ➞ \"b\""
   ]
  },
  {
   "cell_type": "code",
   "execution_count": 9,
   "id": "latest-ceremony",
   "metadata": {},
   "outputs": [],
   "source": [
    "#Your solution\n"
   ]
  },
  {
   "attachments": {
    "image.png": {
     "image/png": "[encoded data removed]"
    }
   },
   "cell_type": "markdown",
   "id": "adequate-sampling",
   "metadata": {},
   "source": [
    "## Calculated Bonus\n",
    "\n",
    "A financial institution provides professional services to banks and claims charges from the customers based on the number of man-days provided. Internally, it has set a scheme to motivate and reward staff to meet and exceed targeted billable utilization and revenues by paying a bonus for each day claimed from customers in excess of a threshold target.\n",
    "\n",
    "This quarterly scheme is calculated with a threshold target of 32 days per quarter, and the incentive payment for each billable day in excess of such threshold target is shown as follows:\n",
    "\n",
    "![image.png](attachment:image.png)\n",
    "\n",
    "Please note that incentive payment is calculated progressively. As an example, if an employee reached total billable days of 45 in a quarter, his/her incentive payment is computed as follows:\n",
    "\n",
    "32*0 + 8*325 + 5*550 = 5350\n",
    "\n",
    "Write a function to read the billable days of an employee and return the bonus he/she has obtained in that quarter.\n",
    "\n",
    "Examples\n",
    "bonus(15) ➞ 0\n",
    "\n",
    "bonus(37) ➞ 1625\n",
    "\n",
    "bonus(50) ➞ 8200"
   ]
  },
  {
   "cell_type": "code",
   "execution_count": 12,
   "id": "lovely-commonwealth",
   "metadata": {},
   "outputs": [],
   "source": [
    "#Your solution\n"
   ]
  },
  {
   "cell_type": "markdown",
   "id": "ambient-tracy",
   "metadata": {},
   "source": [
    "## Prison break\n",
    "\n",
    "A prison can be represented as a list of cells. Each cell contains exactly one prisoner. A 1 represents an unlocked cell and a 0 represents a locked cell.\n",
    "\n",
    "[1, 1, 0, 0, 0, 1, 0]\n",
    "Starting inside the leftmost cell, you are tasked with seeing how many prisoners you can set free, with a catch. You are the prisoner in the first cell. If the first cell is locked, you cannot free anyone. Each time you free a prisoner, the locked cells become unlocked, and the unlocked cells become locked again.\n",
    "\n",
    "So, if we use the example above:\n",
    "\n",
    "[1, 1, 0, 0, 0, 1, 0]\n",
    "\n",
    " You free the prisoner in the 1st cell.\n",
    "\n",
    "[0, 0, 1, 1, 1, 0, 1] \n",
    "\n",
    " You free the prisoner in the 3rd cell (2nd one locked).\n",
    "\n",
    "[1, 1, 0, 0, 0, 1, 0]\n",
    "\n",
    "You free the prisoner in the 6th cell (3rd, 4th and 5th locked).\n",
    "\n",
    "[0, 0, 1, 1, 1, 0, 1]\n",
    "\n",
    "You free the prisoner in the 7th cell - and you are done!\n",
    "\n",
    "Here, we have set free 4 prisoners in total.\n",
    "\n",
    "Create a function that, given this unique prison arrangement, returns the number of freed prisoners.\n",
    "\n",
    "Examples\n",
    "freed_prisoners([1, 1, 0, 0, 0, 1, 0]) ➞ 4\n",
    "\n",
    "freed_prisoners([1, 1, 1]) ➞ 1\n",
    "\n",
    "freed_prisoners([0, 0, 0]) ➞ 0\n",
    "\n",
    "freed_prisoners([0, 1, 1, 1]) ➞ 0\n",
    "\n",
    "### Notes\n",
    "#### You are the prisoner in the first cell. You must be freed to free anyone else.\n",
    "You must free a prisoner in order for the locks to switch. So in the second example where the input is [1, 1, 1] after you release the first prisoner, the locks change to [0, 0, 0]. Since all cells are locked, you can release no more prisoners.\n",
    "You always start within the leftmost element in the list (the first prison cell). If all the prison cells to your right are zeroes, you cannot free any more prisoners."
   ]
  },
  {
   "cell_type": "code",
   "execution_count": null,
   "id": "cooked-treasure",
   "metadata": {},
   "outputs": [],
   "source": [
    "#Your solution"
   ]
  },
  {
   "cell_type": "code",
   "execution_count": null,
   "id": "guilty-luxury",
   "metadata": {},
   "outputs": [],
   "source": []
  },
  {
   "cell_type": "markdown",
   "id": "functioning-preserve",
   "metadata": {},
   "source": [
    "## First letter shift\n",
    "Given a sentence, create a function which shifts the first letter of each word to the next word in the sentence (shifting right).\n",
    "\n",
    "### Examples\n",
    "\n",
    "shift_sentence(\"create a function\") ➞ \"freate c aunction\"\n",
    "\n",
    "shift_sentence(\"it should shift the sentence\") ➞ \"st ihould shift she tentence\"\n",
    "\n",
    "shift_sentence(\"the output is not very legible\") ➞ \"lhe tutput os iot nery vegible\"\n",
    "\n",
    "shift_sentence(\"edabit\") ➞ \"edabit\"\n",
    "### Notes\n",
    "\n",
    "The last word shifts its first letter to the first word in the sentence.\n",
    "All sentences will be given in lowercase."
   ]
  },
  {
   "cell_type": "code",
   "execution_count": 22,
   "id": "billion-default",
   "metadata": {},
   "outputs": [],
   "source": [
    "#Your solution"
   ]
  },
  {
   "cell_type": "code",
   "execution_count": null,
   "id": "suburban-wealth",
   "metadata": {},
   "outputs": [],
   "source": []
  },
  {
   "cell_type": "code",
   "execution_count": null,
   "id": "dirty-print",
   "metadata": {},
   "outputs": [],
   "source": []
  }
 ],
 "metadata": {
  "kernelspec": {
   "display_name": "Python 3",
   "language": "python",
   "name": "python3"
  },
  "language_info": {
   "codemirror_mode": {
    "name": "ipython",
    "version": 3
   },
   "file_extension": ".py",
   "mimetype": "text/x-python",
   "name": "python",
   "nbconvert_exporter": "python",
   "pygments_lexer": "ipython3",
   "version": "3.7.3"
  }
 },
 "nbformat": 4,
 "nbformat_minor": 5
}
