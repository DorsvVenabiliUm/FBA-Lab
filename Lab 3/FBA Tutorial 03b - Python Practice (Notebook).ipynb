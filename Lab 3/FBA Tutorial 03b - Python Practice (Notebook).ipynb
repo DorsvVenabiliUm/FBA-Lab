{
 "cells": [
  {
   "cell_type": "markdown",
   "metadata": {},
   "source": [
    "<p style=\"text-align: center;\">\n",
    "\n",
    "<big><big><big><b>FBA - Week 03b - Python Practice</b></big></big></big>\n",
    "</p>\n",
    "\n",
    "Remember that it is vital that you learn to script - as a top business analyst you will often be looking to generate insight from large amounts of business data. Ehile software such as SPSS and excel <i>aren't</i> sufficient for processing data of that scale, scripting languages are built to do exactly that! Because of this, when hiring for the best analyst jobs, companies expect knowledge about either python or R as a pre-requisite.\n",
    "\n",
    "Now, we have so far learnt the basic tools of scripting: variables, conditionals and loops. These are absolutely key to have an instinctive undertanding of. But of course, learning how to manipulate business data requires more than that: we need to understand \"data structures\". \n",
    "\n",
    "The two core Python data structures that we will become familiar with today are:\n",
    "\n",
    "1. Lists\n",
    "2. Dictionaries\n",
    "\n",
    "Make sure that you learn these as they will underpin all of our analyss.\n",
    "-\n",
    "<hr/>\n",
    "Ok, to get started, let's refresh our minds of what lists are:"
   ]
  },
  {
   "cell_type": "markdown",
   "metadata": {},
   "source": [
    "# A Practice Case - Selling fruits!\n",
    "\n",
    "To get to practice our lists, dictionaries and their associated methods we are going to use a simple case study, where we are tasked with helping a fruit merchant.\n",
    "\n",
    "To start with, we are going to sell some mango, pears, bananas and apples, so first create a list containing these 4 fruits."
   ]
  },
  {
   "cell_type": "code",
   "execution_count": 3,
   "metadata": {
    "collapsed": true
   },
   "outputs": [],
   "source": [
    "#enter your code here"
   ]
  },
  {
   "cell_type": "markdown",
   "metadata": {},
   "source": [
    "The merchant forgot to tell you but he is also stocking some peaches. Using the **.append()** method, add it to our list of fruits. \n",
    "\n",
    "(Don't forget to print your list once you have changed it to check if it worked as expected.)"
   ]
  },
  {
   "cell_type": "code",
   "execution_count": 4,
   "metadata": {},
   "outputs": [
    {
     "name": "stdout",
     "output_type": "stream",
     "text": [
      "['mango', 'pears', 'bananas', 'apples', 'peaches']\n"
     ]
    }
   ],
   "source": [
    "#enter your code here"
   ]
  },
  {
   "cell_type": "markdown",
   "metadata": {},
   "source": [
    "There was also some mis-communication, in that the merchant does not have any mango after all. Update your list accordingly using the method **.remove()**.\n",
    "\n",
    "(Don't forget to print your list once you have changed it to check if it worked as expected.)"
   ]
  },
  {
   "cell_type": "code",
   "execution_count": 5,
   "metadata": {},
   "outputs": [
    {
     "name": "stdout",
     "output_type": "stream",
     "text": [
      "['pears', 'bananas', 'apples', 'peaches']\n"
     ]
    }
   ],
   "source": [
    "#enter your code here"
   ]
  },
  {
   "cell_type": "markdown",
   "metadata": {},
   "source": [
    "In addition to the fruits list, the merchant is also going to provide you a list of prices for his fruits. Unfortunately, he doesn't follow best practices as he used a list to store the price of each fruit **ordered in the alphabetical order**. (i.e. the first price corresponds to 'apples', the last one to 'pears')"
   ]
  },
  {
   "cell_type": "code",
   "execution_count": 6,
   "metadata": {
    "collapsed": true
   },
   "outputs": [],
   "source": [
    "price_list = [1.35, 0.99, 4, 2.99, 2.25]"
   ]
  },
  {
   "cell_type": "markdown",
   "metadata": {},
   "source": [
    "The first step to be able to match our two datasources (i.e. our list **fruits** and the provided list **price_list**), is to sort our list **fruits** in the alphabetical order using the method **.sort()**. \n",
    "\n",
    "Afterwards, print the result of your sorted list to check if it was correctly performed."
   ]
  },
  {
   "cell_type": "code",
   "execution_count": 7,
   "metadata": {},
   "outputs": [
    {
     "name": "stdout",
     "output_type": "stream",
     "text": [
      "['apples', 'bananas', 'peaches', 'pears']\n"
     ]
    }
   ],
   "source": [
    "#enter your code here"
   ]
  },
  {
   "cell_type": "markdown",
   "metadata": {},
   "source": [
    "You may have noticed, the price list contains 5 prices but we only have 4 fruits. Another mis-communication ... This time, the merchant forgot to tell you he also sells cherries which we need to add to our **fruits** list (get used to these as a business analyst - the data you have will always need some 'cleansing'!)\n",
    "\n",
    "Unfortunately, we have also sorted our list in the alphabetical order so we need to be carreful when we add cherries to the list if we want the prices to correspond! 'cherries' will be the 3rd fruit in the alphabetical order (after 'apples' and 'bananas' and before 'peaches' and 'pears').\n",
    "\n",
    "Using the **.insert()** method, add 'cherries' to our **fruits** list so that it appears in 3rd position to respect the alphebetical sorting. Remember, list indexing starts at 0 (zero) !!!"
   ]
  },
  {
   "cell_type": "code",
   "execution_count": 8,
   "metadata": {
    "collapsed": true
   },
   "outputs": [],
   "source": [
    "#enter your code here"
   ]
  },
  {
   "cell_type": "markdown",
   "metadata": {},
   "source": [
    "You should now have a list **fruits** that contains the following values in that order: ['apples', 'bananas', 'cherries', 'peaches', 'pears']. Print your list to make sure it is the case!"
   ]
  },
  {
   "cell_type": "code",
   "execution_count": 9,
   "metadata": {},
   "outputs": [
    {
     "name": "stdout",
     "output_type": "stream",
     "text": [
      "['apples', 'bananas', 'cherries', 'peaches', 'pears']\n"
     ]
    }
   ],
   "source": [
    "#enter your print statement here"
   ]
  },
  {
   "cell_type": "markdown",
   "metadata": {},
   "source": [
    "Let's check everything matches - create a loop using a variable i and a <b>range(5)</b> function, that on each iteration of the loop prints out the name of the next fruit, next to the name of its price"
   ]
  },
  {
   "cell_type": "code",
   "execution_count": 10,
   "metadata": {},
   "outputs": [
    {
     "name": "stdout",
     "output_type": "stream",
     "text": [
      "apples 1.35\n",
      "bananas 0.99\n",
      "cherries 4\n",
      "peaches 2.99\n",
      "pears 2.25\n"
     ]
    }
   ],
   "source": [
    "#enter your loop here"
   ]
  },
  {
   "cell_type": "markdown",
   "metadata": {},
   "source": [
    "### Dictionaries\n",
    "\n",
    "Okay, so we have two lists (one for items, one for prices) whose items match. But it might be easier if this information was in a dictionary called **prices**. Let's create just this.\n",
    "\n",
    "First of all, create an empty dictionary stored in a variable named **prices** (as a reminder, you define a dictionary using { } instead of [ ] for a list):"
   ]
  },
  {
   "cell_type": "code",
   "execution_count": 13,
   "metadata": {
    "collapsed": true
   },
   "outputs": [],
   "source": [
    "#enter your empty dictionary declaration here\n",
    "prices = {}"
   ]
  },
  {
   "cell_type": "markdown",
   "metadata": {},
   "source": [
    "We could add every element in a single line declaration as follows:\n",
    "\n",
    "(note we don't assign this dictionary into the prices variable as we don't want to remember it for now):"
   ]
  },
  {
   "cell_type": "code",
   "execution_count": 14,
   "metadata": {},
   "outputs": [
    {
     "data": {
      "text/plain": [
       "{'apples': 1.35,\n",
       " 'bananas': 0.99,\n",
       " 'cherries': 4,\n",
       " 'peaches': 2.99,\n",
       " 'pears': 2.25}"
      ]
     },
     "execution_count": 14,
     "metadata": {},
     "output_type": "execute_result"
    }
   ],
   "source": [
    "{'apples':1.35, 'bananas':0.99, 'cherries':4, 'peaches':2.99, 'pears':2.25}"
   ]
  },
  {
   "cell_type": "markdown",
   "metadata": {},
   "source": [
    "Or we could add them line by line as follows:"
   ]
  },
  {
   "cell_type": "code",
   "execution_count": null,
   "metadata": {
    "collapsed": true
   },
   "outputs": [],
   "source": [
    "prices['apples'] = 1.35"
   ]
  },
  {
   "cell_type": "code",
   "execution_count": null,
   "metadata": {
    "collapsed": true
   },
   "outputs": [],
   "source": [
    "Add every item using the key assignment syntax shown above, so prices is a full dictionary!"
   ]
  },
  {
   "cell_type": "code",
   "execution_count": 16,
   "metadata": {},
   "outputs": [
    {
     "name": "stdout",
     "output_type": "stream",
     "text": [
      "{'apples': 1.35, 'bananas': 0.99, 'cherries': 4, 'peaches': 2.99, 'pears': 2.25}\n"
     ]
    }
   ],
   "source": [
    "#enter your code here\n",
    "\n",
    "#print out the result\n",
    "print(prices)"
   ]
  },
  {
   "cell_type": "markdown",
   "metadata": {},
   "source": [
    "A final option for doing this (given we had the data already in lists) would have been to use a loop. If we'd had hundredes of stock items to enter in, that were already in lists, this would have been invaluable.\n",
    "\n",
    "Using a **for** loop and the **range** function, iterate through the indexes of your previous created lists: **fruits** and **price_list** (remember both lists contains 5 elements in order, which are a matching fruit and price). \n",
    "\n",
    "Accessing values by index, you can get the fruit name and the fruit price to populate our **prices** dictionary using the fruit name as a key and the price as the value.\n",
    "\n",
    "Try this now, and don't forget to print your dictionary after (and outside) your for loop to see if it was correctly populated."
   ]
  },
  {
   "cell_type": "code",
   "execution_count": null,
   "metadata": {},
   "outputs": [],
   "source": [
    "#an empty dictionary declaration here so we can start again\n",
    "prices = {}\n",
    "\n",
    "#enter your looping code here\n",
    "\n",
    "\n",
    "\n",
    "#print out the results. Does it match your previous, line-by-line created dictionary?\n",
    "print(prices)"
   ]
  },
  {
   "cell_type": "markdown",
   "metadata": {},
   "source": [
    "## Putting it all together\n",
    "\n",
    "Okay, le'ts combine this with user input on stock amounts. First,  create an empty dictionary that we will store in a variable **stock**:"
   ]
  },
  {
   "cell_type": "code",
   "execution_count": 80,
   "metadata": {
    "collapsed": true
   },
   "outputs": [],
   "source": [
    "#enter your empty dictionary declaration here"
   ]
  },
  {
   "cell_type": "markdown",
   "metadata": {},
   "source": [
    "You are now going to write a small script that interacts with the user to populate our fruit stock dictionary. Using a **for** loop and the list **fruits**, iterate through each fruit you are stocking and ask the user to **input()** the stock for that fruit (e.g. : 'How many bananas do you have in stock? 549'). Use the fruit name as the key and the quantity entered by the user as the value to populate your **stock** dictionary."
   ]
  },
  {
   "cell_type": "code",
   "execution_count": null,
   "metadata": {
    "scrolled": false
   },
   "outputs": [],
   "source": [
    "#enter your for loop here that iterates through the fruit\n",
    "\n",
    "    #inside the loop ask the user how much stock that fruit has\n",
    "    \n",
    "    #and then add whatever info they input into the stock dictionary\n",
    "    \n",
    "#finally print out the results\n",
    "print(stock)"
   ]
  },
  {
   "cell_type": "markdown",
   "metadata": {},
   "source": [
    "The last thing that our merchant would like to know is how much money is his stock of fruits worth. Using a **for** loop, your list **fruits** and your two dictionaries **stock** and **prices**, compute the total value of his merchandise, based on the stock amounts you input. (i.e. apples are £1.35 each so if if you stated that he has, for example, 100 of them, his apple stock is worth £135 - to which you will need to add bananas, cherries, peaches and pears).\n",
    "\n",
    "This may be a tricky loop the first time "
   ]
  },
  {
   "cell_type": "code",
   "execution_count": 82,
   "metadata": {},
   "outputs": [
    {
     "name": "stdout",
     "output_type": "stream",
     "text": [
      "The total stock is worth £39702.71\n"
     ]
    }
   ],
   "source": [
    "#create a variable that will keep track of your running stock worth\n",
    "#(which you will add to each time you go round the loop)\n",
    "total_stock_value = 0\n",
    "\n",
    "#enter your code here that loops through the fruits...\n",
    "\n",
    "\n",
    "    \n",
    "#print out the final stock worth\n",
    "print('The total stock is worth £' + str(total_stock_value))"
   ]
  },
  {
   "cell_type": "markdown",
   "metadata": {},
   "source": [
    "<hr/>\n",
    "# Case Study Example 2 - back to ice creams!\n",
    "\n",
    "Let's now go back to our ice cream business and see how we could have made our lives a bit simpler last week if we had known about lists and loops!\n",
    "\n",
    "Here is a reminder of the sales of our business:\n",
    "\n",
    "|-| January | February | March | April | May | June | July | August | September | October | November | December\n",
    "|-|-|-|-|-|-|-|-|-|-|-|-|-|\n",
    "|2015|£1000|£1100|£1200|£1300|£1400|£1500|£1500|£1400|£1300|£1200|£1100|£1000|\n",
    "|2016|£1100|£1200|£1300|£1400|£1500|£1600|£1600|£1500|£1400|£1300|£1200|£1100|\n",
    "|2017|£500|£1600|£1700|£1800|£1900|£500|£500|£500|£1800|£1700|£1600|£500|"
   ]
  },
  {
   "cell_type": "markdown",
   "metadata": {},
   "source": [
    "You are given the following sales data, already put into your script by previous analysts (normally we'd have to load this in from a csv file or sql database ourselves!):"
   ]
  },
  {
   "cell_type": "code",
   "execution_count": 83,
   "metadata": {
    "collapsed": true
   },
   "outputs": [],
   "source": [
    "sales_2015 = [1000, 1100, 1200, 1300, 1400, 1500, 1500, 1400, 1300, 1200, 1100, 1000]\n",
    "sales_2016 = ['1100', '1200', '1300', '1400', '1500', '1600', '1600', '1500', '1400', '1300', '1200', '1100']\n",
    "sales_2017 = [500.0, 1600.0, 1700.0, 1800.0, 1900.0, 500.0, 500.0, 500.0, 1800.0, 1700.0, 1600.0, 500.0]"
   ]
  },
  {
   "cell_type": "markdown",
   "metadata": {},
   "source": [
    "Note that not everything is in the same format! Anyhow, we'll deal with that later (data cleansing required again at some point!). First, as we have in the past, create a list containing the months of a year from January till December:"
   ]
  },
  {
   "cell_type": "code",
   "execution_count": 84,
   "metadata": {
    "collapsed": true
   },
   "outputs": [],
   "source": [
    "#enter your code here\n"
   ]
  },
  {
   "cell_type": "markdown",
   "metadata": {},
   "source": [
    "Now, remember that we can access the data in a list by using an index (which always starts from zero!). For example, we can access individual sales results as follows:"
   ]
  },
  {
   "cell_type": "code",
   "execution_count": 85,
   "metadata": {},
   "outputs": [
    {
     "name": "stdout",
     "output_type": "stream",
     "text": [
      "Example sales in 2015:\n",
      "Jan 1000\n",
      "\n",
      "Example sales in 2016:\n",
      "Mar 1300\n"
     ]
    }
   ],
   "source": [
    "print(\"Example sales in 2015:\")\n",
    "print(months[0], sales_2015[0])\n",
    "\n",
    "print()\n",
    "\n",
    "print(\"Example sales in 2016:\")\n",
    "print(months[2], sales_2016[2])"
   ]
  },
  {
   "cell_type": "markdown",
   "metadata": {},
   "source": [
    "Note that march, being the 3rd month, is indexed by a 2 because we start counting from zero. \n",
    "\n",
    "As above, print out the sales for December 2017:"
   ]
  },
  {
   "cell_type": "code",
   "execution_count": 86,
   "metadata": {},
   "outputs": [
    {
     "name": "stdout",
     "output_type": "stream",
     "text": [
      "Dec 500.0\n"
     ]
    }
   ],
   "source": [
    "#enter your code here\n"
   ]
  },
  {
   "cell_type": "markdown",
   "metadata": {},
   "source": [
    "Use a loop to print the sales for each of the months in 2017 on a separate line. To do this use a variable called <b>i</b> and the <b>range</b> function to enumerate your loop, and then use <b>i</b> to index the sales and name of each month from their lists. "
   ]
  },
  {
   "cell_type": "code",
   "execution_count": 87,
   "metadata": {},
   "outputs": [
    {
     "name": "stdout",
     "output_type": "stream",
     "text": [
      "Jan 500.0\n",
      "Feb 1600.0\n",
      "Mar 1700.0\n",
      "Apr 1800.0\n",
      "May 1900.0\n",
      "Jun 500.0\n",
      "Jul 500.0\n",
      "Aug 500.0\n",
      "Sep 1800.0\n",
      "Nov 1700.0\n",
      "Oct 1600.0\n",
      "Dec 500.0\n"
     ]
    }
   ],
   "source": [
    "#enter your code here\n"
   ]
  },
  {
   "cell_type": "markdown",
   "metadata": {},
   "source": [
    "Update your code above, so it prints out in a format like \"The month of January 2017 had sales of £ 1400\" (note the use of the pound sign, and that the number displayed is an integer and not a float!)"
   ]
  },
  {
   "cell_type": "code",
   "execution_count": 88,
   "metadata": {},
   "outputs": [
    {
     "name": "stdout",
     "output_type": "stream",
     "text": [
      "The month of Jan 2017 had sales of £ 500\n",
      "The month of Feb 2017 had sales of £ 1600\n",
      "The month of Mar 2017 had sales of £ 1700\n",
      "The month of Apr 2017 had sales of £ 1800\n",
      "The month of May 2017 had sales of £ 1900\n",
      "The month of Jun 2017 had sales of £ 500\n",
      "The month of Jul 2017 had sales of £ 500\n",
      "The month of Aug 2017 had sales of £ 500\n",
      "The month of Sep 2017 had sales of £ 1800\n",
      "The month of Nov 2017 had sales of £ 1700\n",
      "The month of Oct 2017 had sales of £ 1600\n",
      "The month of Dec 2017 had sales of £ 500\n"
     ]
    }
   ],
   "source": [
    "#enter your code here\n",
    "\n"
   ]
  },
  {
   "cell_type": "markdown",
   "metadata": {},
   "source": [
    "Remember, you don't have to use <b>range()</b> to loop round a list of data. You can just iterate through each item in the list itself as follows:"
   ]
  },
  {
   "cell_type": "code",
   "execution_count": 89,
   "metadata": {},
   "outputs": [
    {
     "name": "stdout",
     "output_type": "stream",
     "text": [
      "1100\n",
      "1200\n",
      "1300\n",
      "1400\n",
      "1500\n",
      "1600\n",
      "1600\n",
      "1500\n",
      "1400\n",
      "1300\n",
      "1200\n",
      "1100\n"
     ]
    }
   ],
   "source": [
    "for value in sales_2016:\n",
    "    print(value)"
   ]
  },
  {
   "cell_type": "markdown",
   "metadata": {},
   "source": [
    "But doing so means we can't connect the indices of lists together. Having two parallel lists, with each index containing related information in each (in our example our months and sales values were paired) is very common in scripting. However, another option is to use a dictionary.\n",
    "\n",
    "Here's an example of a dictionary that uses the month of the year as a key, and the number of days in it as the corresponding value (on a non-leap year!):"
   ]
  },
  {
   "cell_type": "code",
   "execution_count": 90,
   "metadata": {},
   "outputs": [
    {
     "name": "stdout",
     "output_type": "stream",
     "text": [
      "{'Jan': 31, 'Feb': 28, 'Mar': 31, 'Apr': 30, 'May': 31, 'Jun': 30, 'Jul': 31, 'Aug': 31, 'Sep': 30, 'Nov': 30, 'Oct': 31, 'Dec': 31}\n"
     ]
    }
   ],
   "source": [
    "days = {'Jan':31, 'Feb':28, 'Mar':31, 'Apr':30, 'May':31, 'Jun':30, 'Jul':31, 'Aug':31, 'Sep':30, 'Nov':30, 'Oct':31, 'Dec':31}\n",
    "print(days)"
   ]
  },
  {
   "cell_type": "markdown",
   "metadata": {},
   "source": [
    "And here's a loop that could display them in a tabular form:"
   ]
  },
  {
   "cell_type": "code",
   "execution_count": 91,
   "metadata": {},
   "outputs": [
    {
     "name": "stdout",
     "output_type": "stream",
     "text": [
      "Jan 31\n",
      "Feb 28\n",
      "Mar 31\n",
      "Apr 30\n",
      "May 31\n",
      "Jun 30\n",
      "Jul 31\n",
      "Aug 31\n",
      "Sep 30\n",
      "Nov 30\n",
      "Oct 31\n",
      "Dec 31\n"
     ]
    }
   ],
   "source": [
    "for d in days: \n",
    "    print(d, days[d])"
   ]
  },
  {
   "cell_type": "markdown",
   "metadata": {},
   "source": [
    "Examine what a loop iterating through a dictionary does. Unlike for a list, it puts the <b>key</b> into the variable, rather than the associated value. The key is then used as an index itself in the loop to access the corresponding value in the print statement."
   ]
  },
  {
   "cell_type": "markdown",
   "metadata": {},
   "source": [
    "As we saw before (but examine again to ensure it becomes obvious!) we can also add key-value pairs to dictionaries gradually:"
   ]
  },
  {
   "cell_type": "code",
   "execution_count": 92,
   "metadata": {},
   "outputs": [
    {
     "data": {
      "text/plain": [
       "{'Feb': 1100, 'Jan': 1000, 'Mar': 1200}"
      ]
     },
     "execution_count": 92,
     "metadata": {},
     "output_type": "execute_result"
    }
   ],
   "source": [
    "dict_sales_2015 = {}\n",
    "dict_sales_2015['Jan'] = 1000\n",
    "dict_sales_2015['Feb'] = 1100\n",
    "\n",
    "#-- and we can use variables as the key for a dictionary if we so wanted:\n",
    "month = 'Mar'\n",
    "dict_sales_2015[month] = 1200\n",
    "\n",
    "dict_sales_2015"
   ]
  },
  {
   "cell_type": "markdown",
   "metadata": {},
   "source": [
    "However, it would be much easier to do this in a loop as we have 12 months to do (and this is especially true as our datasets get larger)! \n",
    "\n",
    "See if you can create the same dictionary as above but using a loop. On each iteration use the loops iteration as an index to the <b>months</b> and <b>sales_2015</b> lists, setting them as the key and value of the dictionary entry respectively."
   ]
  },
  {
   "cell_type": "code",
   "execution_count": null,
   "metadata": {},
   "outputs": [],
   "source": [
    "dict_sales_2015 = {}\n",
    "\n",
    "#enter your looping code here\n",
    "\n",
    "\n",
    "\n",
    "\n",
    "\n",
    "\n",
    "#print out the results\n",
    "print(dict_sales_2015)"
   ]
  },
  {
   "cell_type": "markdown",
   "metadata": {},
   "source": [
    "Reproduce the same steps to convert your lists of sales 2016 and 2017 to dictionaries, but making sure that all entries are now integers."
   ]
  },
  {
   "cell_type": "code",
   "execution_count": 94,
   "metadata": {
    "collapsed": true
   },
   "outputs": [],
   "source": [
    "#enter your code here\n"
   ]
  },
  {
   "cell_type": "markdown",
   "metadata": {},
   "source": [
    "You should now have 3 dictionaries containing the sales for years 2015, 2016 and 2017. \n",
    "\n",
    "Combine all of these themselves as values in another dictionary (you can name it **dict_yearly_sales** for example) taking the year as its key - and then print out the results."
   ]
  },
  {
   "cell_type": "code",
   "execution_count": null,
   "metadata": {},
   "outputs": [],
   "source": [
    "#enter your code here\n"
   ]
  },
  {
   "cell_type": "markdown",
   "metadata": {},
   "source": [
    "Well, that's already quite a lot of data already. Note that just like SQL tables, dictionaries have fields and values. And also like SQL tables, the order of the fields doesn't matter - you have to reference them by the correct key."
   ]
  },
  {
   "cell_type": "markdown",
   "metadata": {},
   "source": [
    "# Analysing the Ice Cream sales data\n",
    "\n",
    "We now have some well structured data and can take advantage of that to perform some standard analysis on our business.\n",
    "\n",
    "Let's start by computing the total sales for each year using the dictionary that we have freshly created (i.e. from the previous question). Using a **for** loop, print something like 'In 2015, total sales were £...', 'In 2016, total sales were £...' ..."
   ]
  },
  {
   "cell_type": "code",
   "execution_count": 98,
   "metadata": {},
   "outputs": [
    {
     "name": "stdout",
     "output_type": "stream",
     "text": [
      "In 2015, total sales were £ 15000\n",
      "In 2016, total sales were £ 16200\n",
      "In 2017, total sales were £ 14600\n"
     ]
    }
   ],
   "source": [
    "#enter your looping code here, printing on each iteration of the loop...\n",
    "        "
   ]
  },
  {
   "cell_type": "markdown",
   "metadata": {},
   "source": [
    "In addition to yearly sales, we are intered in the performance per trimester (and for each year):\n",
    "    - Trimester 1 : Jan, Feb, Mar\n",
    "    - Trimester 2 : Apr, May, Jun\n",
    "    - Trimester 3 : Jul, Aug, Sep\n",
    "    - Trimester 4 : Oct, Nov, Dec\n",
    "    \n",
    "Let's start by creating a variable **trimester_1** that extracts the first 3 months of our list **months** using slices. Follow the same principle to create the variables **trimester_2**, **trimester_3** and **trimester_4**"
   ]
  },
  {
   "cell_type": "code",
   "execution_count": 102,
   "metadata": {},
   "outputs": [
    {
     "name": "stdout",
     "output_type": "stream",
     "text": [
      "['Jan', 'Feb', 'Mar']\n",
      "['Apr', 'May', 'Jun']\n",
      "['Jul', 'Aug', 'Sep']\n",
      "['Nov', 'Oct', 'Dec']\n"
     ]
    }
   ],
   "source": [
    "#In the first question of the case study, you should have defined months like that: \n",
    "months = ['Jan', 'Feb', 'Mar', 'Apr', 'May', 'Jun', 'Jul', 'Aug', 'Sep', 'Nov', 'Oct', 'Dec']\n",
    "\n",
    "#enter your code here\n",
    "\n",
    "#print the results\n",
    "print(trimester_1)\n",
    "print(trimester_2)\n",
    "print(trimester_3)\n",
    "print(trimester_4)"
   ]
  },
  {
   "cell_type": "markdown",
   "metadata": {},
   "source": [
    "Using two **for** loops (to iterate through your years and months), an **if** statements that uses the **in** operator (to check if a month is part of trimester), display on the screen the performance of each trimester and for each year like 'In 2015, the sales were: - Semester 1 ...'."
   ]
  },
  {
   "cell_type": "code",
   "execution_count": 103,
   "metadata": {
    "scrolled": true
   },
   "outputs": [
    {
     "name": "stdout",
     "output_type": "stream",
     "text": [
      "In 2015, the sales were:\n",
      "- Semester 13300\n",
      "- Semester 24200\n",
      "- Semester 34200\n",
      "- Semester 43300\n",
      "In 2016, the sales were:\n",
      "- Semester 13600\n",
      "- Semester 24500\n",
      "- Semester 34500\n",
      "- Semester 43600\n",
      "In 2017, the sales were:\n",
      "- Semester 13800\n",
      "- Semester 24200\n",
      "- Semester 32800\n",
      "- Semester 43800\n"
     ]
    }
   ],
   "source": [
    "#enter your code here - good luck!\n"
   ]
  }
 ],
 "metadata": {
  "kernelspec": {
   "display_name": "Python 3 (ipykernel)",
   "language": "python",
   "name": "python3"
  },
  "language_info": {
   "codemirror_mode": {
    "name": "ipython",
    "version": 3
   },
   "file_extension": ".py",
   "mimetype": "text/x-python",
   "name": "python",
   "nbconvert_exporter": "python",
   "pygments_lexer": "ipython3",
   "version": "3.9.12"
  }
 },
 "nbformat": 4,
 "nbformat_minor": 2
}
